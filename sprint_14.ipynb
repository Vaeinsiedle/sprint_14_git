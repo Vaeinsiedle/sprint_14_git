{
 "cells": [
  {
   "cell_type": "markdown",
   "metadata": {
    "toc": true
   },
   "source": [
    "<h1>Содержание<span class=\"tocSkip\"></span></h1>\n",
    "<div class=\"toc\"><ul class=\"toc-item\"><li><ul class=\"toc-item\"><li><span><a href=\"#О-проекте.\" data-toc-modified-id=\"О-проекте.-0.1\"><span class=\"toc-item-num\">0.1&nbsp;&nbsp;</span>О проекте.</a></span></li><li><span><a href=\"#Цель.\" data-toc-modified-id=\"Цель.-0.2\"><span class=\"toc-item-num\">0.2&nbsp;&nbsp;</span>Цель.</a></span></li><li><span><a href=\"#План.\" data-toc-modified-id=\"План.-0.3\"><span class=\"toc-item-num\">0.3&nbsp;&nbsp;</span>План.</a></span></li></ul></li><li><span><a href=\"#Подготовка-данных\" data-toc-modified-id=\"Подготовка-данных-1\"><span class=\"toc-item-num\">1&nbsp;&nbsp;</span>Подготовка данных</a></span><ul class=\"toc-item\"><li><span><a href=\"#Вывод\" data-toc-modified-id=\"Вывод-1.1\"><span class=\"toc-item-num\">1.1&nbsp;&nbsp;</span>Вывод</a></span></li></ul></li><li><span><a href=\"#Исследование-задачи\" data-toc-modified-id=\"Исследование-задачи-2\"><span class=\"toc-item-num\">2&nbsp;&nbsp;</span>Исследование задачи</a></span><ul class=\"toc-item\"><li><span><a href=\"#Вывод\" data-toc-modified-id=\"Вывод-2.1\"><span class=\"toc-item-num\">2.1&nbsp;&nbsp;</span>Вывод</a></span></li></ul></li><li><span><a href=\"#Борьба-с-дисбалансом\" data-toc-modified-id=\"Борьба-с-дисбалансом-3\"><span class=\"toc-item-num\">3&nbsp;&nbsp;</span>Борьба с дисбалансом</a></span><ul class=\"toc-item\"><li><span><a href=\"#Вывод\" data-toc-modified-id=\"Вывод-3.1\"><span class=\"toc-item-num\">3.1&nbsp;&nbsp;</span>Вывод</a></span></li></ul></li><li><span><a href=\"#Тестирование-модели\" data-toc-modified-id=\"Тестирование-модели-4\"><span class=\"toc-item-num\">4&nbsp;&nbsp;</span>Тестирование модели</a></span><ul class=\"toc-item\"><li><span><a href=\"#Вывод\" data-toc-modified-id=\"Вывод-4.1\"><span class=\"toc-item-num\">4.1&nbsp;&nbsp;</span>Вывод</a></span></li></ul></li><li><span><a href=\"#Чек-лист-готовности-проекта\" data-toc-modified-id=\"Чек-лист-готовности-проекта-5\"><span class=\"toc-item-num\">5&nbsp;&nbsp;</span>Чек-лист готовности проекта</a></span></li><li><span><a href=\"#Общий-вывод\" data-toc-modified-id=\"Общий-вывод-6\"><span class=\"toc-item-num\">6&nbsp;&nbsp;</span>Общий вывод</a></span></li></ul></div>"
   ]
  },
  {
   "cell_type": "markdown",
   "metadata": {},
   "source": [
    "# Отток клиентов"
   ]
  },
  {
   "cell_type": "markdown",
   "metadata": {},
   "source": [
    "Из «Бета-Банка» стали уходить клиенты. Каждый месяц. Немного, но заметно. Банковские маркетологи посчитали: сохранять текущих клиентов дешевле, чем привлекать новых.\n",
    "\n",
    "Нужно спрогнозировать, уйдёт клиент из банка в ближайшее время или нет. Вам предоставлены исторические данные о поведении клиентов и расторжении договоров с банком. \n",
    "\n",
    "Постройте модель с предельно большим значением *F1*-меры. Чтобы сдать проект успешно, нужно довести метрику до 0.59. Проверьте *F1*-меру на тестовой выборке самостоятельно.\n",
    "\n",
    "Дополнительно измеряйте *AUC-ROC*, сравнивайте её значение с *F1*-мерой.\n",
    "\n",
    "Источник данных: [https://www.kaggle.com/barelydedicated/bank-customer-churn-modeling](https://www.kaggle.com/barelydedicated/bank-customer-churn-modeling)"
   ]
  },
  {
   "cell_type": "markdown",
   "metadata": {},
   "source": [
    "### О проекте. #####"
   ]
  },
  {
   "cell_type": "markdown",
   "metadata": {},
   "source": [
    "Из «Бета-Банка» стали уходить клиенты. Каждый месяц. Немного, но заметно. Банковские маркетологи посчитали: сохранять текущих клиентов дешевле, чем привлекать новых.\n",
    "Нужно спрогнозировать, уйдёт клиент из банка в ближайшее время или нет."
   ]
  },
  {
   "cell_type": "markdown",
   "metadata": {},
   "source": [
    "### Цель. ###"
   ]
  },
  {
   "cell_type": "markdown",
   "metadata": {},
   "source": [
    "- Спрогнозировать, уйдёт клиент из банка в ближайшее время или нет.\n",
    "- Построить модель с предельно большим значением F1-меры"
   ]
  },
  {
   "cell_type": "markdown",
   "metadata": {},
   "source": [
    "### План. ###"
   ]
  },
  {
   "cell_type": "markdown",
   "metadata": {},
   "source": [
    "- Исследовать баланс классов, обучить модель без учёта дисбаланса. Кратко описать выводы.\n",
    "- Улучшить качество модели, учитывать дисбаланс классов. Обучить разные модели и найти лучшую. Кратко описать выводы.\n",
    "- Провести финальное тестирование."
   ]
  },
  {
   "cell_type": "markdown",
   "metadata": {},
   "source": [
    "## Подготовка данных"
   ]
  },
  {
   "cell_type": "code",
   "execution_count": 1,
   "metadata": {},
   "outputs": [],
   "source": [
    "import pandas as pd\n",
    "from sklearn.model_selection import train_test_split\n",
    "from sklearn.preprocessing import StandardScaler \n",
    "import seaborn as sns\n",
    "import plotly.express as px\n",
    "import matplotlib.pyplot as plt\n",
    "from sklearn.ensemble import RandomForestClassifier\n",
    "from sklearn.tree import DecisionTreeClassifier\n",
    "from sklearn.linear_model import LogisticRegression \n",
    "from sklearn.metrics import f1_score\n",
    "from sklearn.metrics import roc_auc_score\n",
    "from sklearn.metrics import roc_curve \n",
    "from sklearn.impute import SimpleImputer\n",
    "from sklearn.utils import shuffle\n",
    "import numpy\n",
    "import warnings"
   ]
  },
  {
   "cell_type": "code",
   "execution_count": 2,
   "metadata": {},
   "outputs": [],
   "source": [
    "warnings.filterwarnings('ignore')"
   ]
  },
  {
   "cell_type": "code",
   "execution_count": 3,
   "metadata": {},
   "outputs": [],
   "source": [
    "data = pd.read_csv(\"/datasets/Churn.csv\")"
   ]
  },
  {
   "cell_type": "code",
   "execution_count": 4,
   "metadata": {},
   "outputs": [
    {
     "name": "stdout",
     "output_type": "stream",
     "text": [
      "<class 'pandas.core.frame.DataFrame'>\n",
      "RangeIndex: 10000 entries, 0 to 9999\n",
      "Data columns (total 14 columns):\n",
      " #   Column           Non-Null Count  Dtype  \n",
      "---  ------           --------------  -----  \n",
      " 0   RowNumber        10000 non-null  int64  \n",
      " 1   CustomerId       10000 non-null  int64  \n",
      " 2   Surname          10000 non-null  object \n",
      " 3   CreditScore      10000 non-null  int64  \n",
      " 4   Geography        10000 non-null  object \n",
      " 5   Gender           10000 non-null  object \n",
      " 6   Age              10000 non-null  int64  \n",
      " 7   Tenure           9091 non-null   float64\n",
      " 8   Balance          10000 non-null  float64\n",
      " 9   NumOfProducts    10000 non-null  int64  \n",
      " 10  HasCrCard        10000 non-null  int64  \n",
      " 11  IsActiveMember   10000 non-null  int64  \n",
      " 12  EstimatedSalary  10000 non-null  float64\n",
      " 13  Exited           10000 non-null  int64  \n",
      "dtypes: float64(3), int64(8), object(3)\n",
      "memory usage: 1.1+ MB\n"
     ]
    },
    {
     "data": {
      "text/html": [
       "<div>\n",
       "<style scoped>\n",
       "    .dataframe tbody tr th:only-of-type {\n",
       "        vertical-align: middle;\n",
       "    }\n",
       "\n",
       "    .dataframe tbody tr th {\n",
       "        vertical-align: top;\n",
       "    }\n",
       "\n",
       "    .dataframe thead th {\n",
       "        text-align: right;\n",
       "    }\n",
       "</style>\n",
       "<table border=\"1\" class=\"dataframe\">\n",
       "  <thead>\n",
       "    <tr style=\"text-align: right;\">\n",
       "      <th></th>\n",
       "      <th>RowNumber</th>\n",
       "      <th>CustomerId</th>\n",
       "      <th>Surname</th>\n",
       "      <th>CreditScore</th>\n",
       "      <th>Geography</th>\n",
       "      <th>Gender</th>\n",
       "      <th>Age</th>\n",
       "      <th>Tenure</th>\n",
       "      <th>Balance</th>\n",
       "      <th>NumOfProducts</th>\n",
       "      <th>HasCrCard</th>\n",
       "      <th>IsActiveMember</th>\n",
       "      <th>EstimatedSalary</th>\n",
       "      <th>Exited</th>\n",
       "    </tr>\n",
       "  </thead>\n",
       "  <tbody>\n",
       "    <tr>\n",
       "      <th>0</th>\n",
       "      <td>1</td>\n",
       "      <td>15634602</td>\n",
       "      <td>Hargrave</td>\n",
       "      <td>619</td>\n",
       "      <td>France</td>\n",
       "      <td>Female</td>\n",
       "      <td>42</td>\n",
       "      <td>2.0</td>\n",
       "      <td>0.00</td>\n",
       "      <td>1</td>\n",
       "      <td>1</td>\n",
       "      <td>1</td>\n",
       "      <td>101348.88</td>\n",
       "      <td>1</td>\n",
       "    </tr>\n",
       "    <tr>\n",
       "      <th>1</th>\n",
       "      <td>2</td>\n",
       "      <td>15647311</td>\n",
       "      <td>Hill</td>\n",
       "      <td>608</td>\n",
       "      <td>Spain</td>\n",
       "      <td>Female</td>\n",
       "      <td>41</td>\n",
       "      <td>1.0</td>\n",
       "      <td>83807.86</td>\n",
       "      <td>1</td>\n",
       "      <td>0</td>\n",
       "      <td>1</td>\n",
       "      <td>112542.58</td>\n",
       "      <td>0</td>\n",
       "    </tr>\n",
       "    <tr>\n",
       "      <th>2</th>\n",
       "      <td>3</td>\n",
       "      <td>15619304</td>\n",
       "      <td>Onio</td>\n",
       "      <td>502</td>\n",
       "      <td>France</td>\n",
       "      <td>Female</td>\n",
       "      <td>42</td>\n",
       "      <td>8.0</td>\n",
       "      <td>159660.80</td>\n",
       "      <td>3</td>\n",
       "      <td>1</td>\n",
       "      <td>0</td>\n",
       "      <td>113931.57</td>\n",
       "      <td>1</td>\n",
       "    </tr>\n",
       "    <tr>\n",
       "      <th>3</th>\n",
       "      <td>4</td>\n",
       "      <td>15701354</td>\n",
       "      <td>Boni</td>\n",
       "      <td>699</td>\n",
       "      <td>France</td>\n",
       "      <td>Female</td>\n",
       "      <td>39</td>\n",
       "      <td>1.0</td>\n",
       "      <td>0.00</td>\n",
       "      <td>2</td>\n",
       "      <td>0</td>\n",
       "      <td>0</td>\n",
       "      <td>93826.63</td>\n",
       "      <td>0</td>\n",
       "    </tr>\n",
       "    <tr>\n",
       "      <th>4</th>\n",
       "      <td>5</td>\n",
       "      <td>15737888</td>\n",
       "      <td>Mitchell</td>\n",
       "      <td>850</td>\n",
       "      <td>Spain</td>\n",
       "      <td>Female</td>\n",
       "      <td>43</td>\n",
       "      <td>2.0</td>\n",
       "      <td>125510.82</td>\n",
       "      <td>1</td>\n",
       "      <td>1</td>\n",
       "      <td>1</td>\n",
       "      <td>79084.10</td>\n",
       "      <td>0</td>\n",
       "    </tr>\n",
       "  </tbody>\n",
       "</table>\n",
       "</div>"
      ],
      "text/plain": [
       "   RowNumber  CustomerId   Surname  CreditScore Geography  Gender  Age  \\\n",
       "0          1    15634602  Hargrave          619    France  Female   42   \n",
       "1          2    15647311      Hill          608     Spain  Female   41   \n",
       "2          3    15619304      Onio          502    France  Female   42   \n",
       "3          4    15701354      Boni          699    France  Female   39   \n",
       "4          5    15737888  Mitchell          850     Spain  Female   43   \n",
       "\n",
       "   Tenure    Balance  NumOfProducts  HasCrCard  IsActiveMember  \\\n",
       "0     2.0       0.00              1          1               1   \n",
       "1     1.0   83807.86              1          0               1   \n",
       "2     8.0  159660.80              3          1               0   \n",
       "3     1.0       0.00              2          0               0   \n",
       "4     2.0  125510.82              1          1               1   \n",
       "\n",
       "   EstimatedSalary  Exited  \n",
       "0        101348.88       1  \n",
       "1        112542.58       0  \n",
       "2        113931.57       1  \n",
       "3         93826.63       0  \n",
       "4         79084.10       0  "
      ]
     },
     "execution_count": 4,
     "metadata": {},
     "output_type": "execute_result"
    }
   ],
   "source": [
    "data.info()\n",
    "data.head()"
   ]
  },
  {
   "cell_type": "markdown",
   "metadata": {},
   "source": [
    "Сразу видим , что в столбце *`Tenure`* есть пропуски, а так же видим, что столбцы *`RowNumber`*, *`CustomerId`* и *`Surname`*, явно не понадобятся для обучения модели. Еще заметим категориальные столбцы *`Geography`* и *`Gender`*, которые преобразуем в численные техникой прямого кодирования.\n",
    "\n",
    "Теперь переведем данные в график."
   ]
  },
  {
   "cell_type": "code",
   "execution_count": 5,
   "metadata": {},
   "outputs": [
    {
     "data": {
      "image/png": "[encoded data removed]",
      "text/plain": [
       "<Figure size 1080x1440 with 12 Axes>"
      ]
     },
     "metadata": {
      "needs_background": "light"
     },
     "output_type": "display_data"
    }
   ],
   "source": [
    "data.hist(figsize=(15,20));"
   ]
  },
  {
   "cell_type": "markdown",
   "metadata": {},
   "source": [
    "В целом с данные адекватные, с ними все в порядке, вернемся к *`Tenure`* и посмотрим на данные с их пропуском."
   ]
  },
  {
   "cell_type": "code",
   "execution_count": 6,
   "metadata": {},
   "outputs": [
    {
     "data": {
      "image/png": "[encoded data removed]",
      "text/plain": [
       "<Figure size 1080x1440 with 12 Axes>"
      ]
     },
     "metadata": {
      "needs_background": "light"
     },
     "output_type": "display_data"
    }
   ],
   "source": [
    "data[data[\"Tenure\"].isna()].hist(figsize=(15,20));"
   ]
  },
  {
   "cell_type": "markdown",
   "metadata": {},
   "source": [
    "Распределение осталось таким же, поэтому можем избавиться от этих пропусков. А также дропнем лишние столбики."
   ]
  },
  {
   "cell_type": "code",
   "execution_count": 7,
   "metadata": {},
   "outputs": [],
   "source": [
    "data['Tenure'] = data['Tenure'].replace(numpy.NaN, None).astype(int, errors='ignore').astype(object)"
   ]
  },
  {
   "cell_type": "code",
   "execution_count": 8,
   "metadata": {},
   "outputs": [],
   "source": [
    "#data = data.dropna()\n",
    "data = data.drop(['RowNumber', 'CustomerId', 'Surname'], axis=1)"
   ]
  },
  {
   "cell_type": "markdown",
   "metadata": {},
   "source": [
    "Теперь преобразуем столбцы *`Geography`* и *`Gender`*"
   ]
  },
  {
   "cell_type": "code",
   "execution_count": 9,
   "metadata": {
    "scrolled": true
   },
   "outputs": [
    {
     "name": "stdout",
     "output_type": "stream",
     "text": [
      "<class 'pandas.core.frame.DataFrame'>\n",
      "RangeIndex: 10000 entries, 0 to 9999\n",
      "Data columns (total 12 columns):\n",
      " #   Column             Non-Null Count  Dtype  \n",
      "---  ------             --------------  -----  \n",
      " 0   CreditScore        10000 non-null  int64  \n",
      " 1   Age                10000 non-null  int64  \n",
      " 2   Tenure             10000 non-null  object \n",
      " 3   Balance            10000 non-null  float64\n",
      " 4   NumOfProducts      10000 non-null  int64  \n",
      " 5   HasCrCard          10000 non-null  int64  \n",
      " 6   IsActiveMember     10000 non-null  int64  \n",
      " 7   EstimatedSalary    10000 non-null  float64\n",
      " 8   Exited             10000 non-null  int64  \n",
      " 9   Geography_Germany  10000 non-null  uint8  \n",
      " 10  Geography_Spain    10000 non-null  uint8  \n",
      " 11  Gender_Male        10000 non-null  uint8  \n",
      "dtypes: float64(2), int64(6), object(1), uint8(3)\n",
      "memory usage: 732.5+ KB\n"
     ]
    }
   ],
   "source": [
    "data = pd.get_dummies(data, columns=['Geography', 'Gender'], drop_first=True)\n",
    "data.info()"
   ]
  },
  {
   "cell_type": "markdown",
   "metadata": {},
   "source": [
    "### Вывод ###\n"
   ]
  },
  {
   "cell_type": "markdown",
   "metadata": {},
   "source": [
    "Данные подготовлены, теперь можем перейти к исследованию."
   ]
  },
  {
   "cell_type": "markdown",
   "metadata": {},
   "source": [
    "## Исследование задачи"
   ]
  },
  {
   "cell_type": "markdown",
   "metadata": {},
   "source": [
    "Разобьем исходные данные разбиты в соотношении 3:1:1"
   ]
  },
  {
   "cell_type": "code",
   "execution_count": 10,
   "metadata": {},
   "outputs": [],
   "source": [
    "data_train, data_valid = train_test_split(data, test_size=0.4, random_state=12345)\n",
    "data_valid, data_test = train_test_split(data_valid, test_size=0.5, random_state=12345)\n"
   ]
  },
  {
   "cell_type": "code",
   "execution_count": 11,
   "metadata": {},
   "outputs": [
    {
     "name": "stdout",
     "output_type": "stream",
     "text": [
      "Размер датафрейма: 10000\n",
      "Размер тренериующей выборки: 6000\n",
      "Размер валидационной выборки: 2000\n",
      "Размер тестовой выборки: 2000\n"
     ]
    }
   ],
   "source": [
    "print(\"Размер датафрейма:\",data.shape[0])\n",
    "print(\"Размер тренериующей выборки:\", data_train.shape[0])\n",
    "print(\"Размер валидационной выборки:\", data_valid.shape[0])\n",
    "print(\"Размер тестовой выборки:\", data_test.shape[0])"
   ]
  },
  {
   "cell_type": "markdown",
   "metadata": {},
   "source": [
    "И разделим на признаки и на целевой признак каждую выборку."
   ]
  },
  {
   "cell_type": "code",
   "execution_count": 12,
   "metadata": {},
   "outputs": [
    {
     "name": "stdout",
     "output_type": "stream",
     "text": [
      "<class 'pandas.core.frame.DataFrame'>\n",
      "Int64Index: 6000 entries, 7479 to 4578\n",
      "Data columns (total 11 columns):\n",
      " #   Column             Non-Null Count  Dtype  \n",
      "---  ------             --------------  -----  \n",
      " 0   CreditScore        6000 non-null   int64  \n",
      " 1   Age                6000 non-null   int64  \n",
      " 2   Tenure             6000 non-null   object \n",
      " 3   Balance            6000 non-null   float64\n",
      " 4   NumOfProducts      6000 non-null   int64  \n",
      " 5   HasCrCard          6000 non-null   int64  \n",
      " 6   IsActiveMember     6000 non-null   int64  \n",
      " 7   EstimatedSalary    6000 non-null   float64\n",
      " 8   Geography_Germany  6000 non-null   uint8  \n",
      " 9   Geography_Spain    6000 non-null   uint8  \n",
      " 10  Gender_Male        6000 non-null   uint8  \n",
      "dtypes: float64(2), int64(5), object(1), uint8(3)\n",
      "memory usage: 439.5+ KB\n"
     ]
    }
   ],
   "source": [
    "features_train = data_train.drop(\"Exited\", axis=1)\n",
    "target_train = data_train[\"Exited\"]\n",
    "\n",
    "features_valid = data_valid.drop(\"Exited\", axis=1)\n",
    "target_valid = data_valid[\"Exited\"]\n",
    "\n",
    "features_test = data_test.drop(\"Exited\", axis=1)\n",
    "target_test = data_test[\"Exited\"]\n",
    "\n",
    "features_train.info()"
   ]
  },
  {
   "cell_type": "markdown",
   "metadata": {},
   "source": [
    "Теперь нормализуем каждую из выборок."
   ]
  },
  {
   "cell_type": "code",
   "execution_count": 14,
   "metadata": {},
   "outputs": [],
   "source": [
    "scaler = StandardScaler()\n",
    "scaler.fit(features_train)\n",
    "    \n",
    "features_train = pd.DataFrame(scaler.transform(features_train))\n",
    "target_train = target_train.reset_index(drop = True)\n",
    "\n",
    "features_valid = pd.DataFrame(scaler.transform(features_valid))\n",
    "target_valid = target_valid.reset_index(drop = True)\n",
    "\n",
    "features_test = pd.DataFrame(scaler.transform(features_test))\n",
    "target_test = target_test.reset_index(drop = True) "
   ]
  },
  {
   "cell_type": "markdown",
   "metadata": {},
   "source": [
    "### Вывод ###"
   ]
  },
  {
   "cell_type": "markdown",
   "metadata": {},
   "source": [
    "-------"
   ]
  },
  {
   "cell_type": "markdown",
   "metadata": {},
   "source": [
    "## Борьба с дисбалансом"
   ]
  },
  {
   "cell_type": "markdown",
   "metadata": {},
   "source": [
    "Сперва воспользуемся техникой `upsampling`"
   ]
  },
  {
   "cell_type": "markdown",
   "metadata": {},
   "source": [
    "Применим функцию с числом повторений 4 (чтобы примерно выровнять пропорции, т.к если посмотреть на ранее построенные графики, то можешь увидеть, что количество пользователей, которые продолжают пользоваться услугами банка в 3.9 раза выше количества пользователей, которые перестали пользоваться услугами банка.) и посмотрим, как изменятся метрики для такой модели:"
   ]
  },
  {
   "cell_type": "code",
   "execution_count": 18,
   "metadata": {
    "scrolled": true
   },
   "outputs": [
    {
     "name": "stdout",
     "output_type": "stream",
     "text": [
      "CreditScore          3.90918\n",
      "Age                  3.90918\n",
      "Tenure               3.90918\n",
      "Balance              3.90918\n",
      "NumOfProducts        3.90918\n",
      "HasCrCard            3.90918\n",
      "IsActiveMember       3.90918\n",
      "EstimatedSalary      3.90918\n",
      "Exited               3.90918\n",
      "Geography_Germany    3.90918\n",
      "Geography_Spain      3.90918\n",
      "Gender_Male          3.90918\n",
      "dtype: float64\n"
     ]
    }
   ],
   "source": [
    "data[\"Exited\"].value_counts()\n",
    "print(data[data[\"Exited\"] == 0].count() / data[data[\"Exited\"] == 1].count())\n"
   ]
  },
  {
   "cell_type": "code",
   "execution_count": 19,
   "metadata": {},
   "outputs": [
    {
     "data": {
      "text/plain": [
       "3.9091801669121256"
      ]
     },
     "execution_count": 19,
     "metadata": {},
     "output_type": "execute_result"
    }
   ],
   "source": [
    "data[\"Exited\"].value_counts()[0]/data[\"Exited\"].value_counts()[1]"
   ]
  },
  {
   "cell_type": "code",
   "execution_count": 20,
   "metadata": {},
   "outputs": [],
   "source": [
    "def upsample(features, target, repeat):\n",
    "    features_zeros = features[target == 0]\n",
    "    features_ones = features[target == 1]\n",
    "    target_zeros = target[target == 0]\n",
    "    target_ones = target[target == 1]\n",
    "\n",
    "    features_upsampled = pd.concat([features_zeros] + [features_ones] * repeat)\n",
    "    target_upsampled = pd.concat([target_zeros] + [target_ones] * repeat)\n",
    "    \n",
    "    features_upsampled, target_upsampled = shuffle(\n",
    "        features_upsampled, target_upsampled, random_state=12345)\n",
    "    \n",
    "    return features_upsampled, target_upsampled"
   ]
  },
  {
   "cell_type": "code",
   "execution_count": 21,
   "metadata": {},
   "outputs": [],
   "source": [
    "features_upsampled, target_upsampled = upsample(features_train, target_train, 4)"
   ]
  },
  {
   "cell_type": "markdown",
   "metadata": {},
   "source": [
    "Теперь перейдем к технике `downsampling`"
   ]
  },
  {
   "cell_type": "code",
   "execution_count": 22,
   "metadata": {},
   "outputs": [],
   "source": [
    "def downsample(features, target, fraction):\n",
    "    features_zeros = features[target == 0]\n",
    "    features_ones = features[target == 1]\n",
    "    target_zeros = target[target == 0]\n",
    "    target_ones = target[target == 1]\n",
    "\n",
    "    features_downsampled = pd.concat(\n",
    "        [features_zeros.sample(frac=fraction, random_state=12345)] + [features_ones])\n",
    "    target_downsampled = pd.concat(\n",
    "        [target_zeros.sample(frac=fraction, random_state=12345)] + [target_ones])\n",
    "    \n",
    "    features_downsampled, target_downsampled = shuffle(\n",
    "        features_downsampled, target_downsampled, random_state=12345)\n",
    "    \n",
    "    return features_downsampled, target_downsampled"
   ]
  },
  {
   "cell_type": "code",
   "execution_count": 23,
   "metadata": {},
   "outputs": [],
   "source": [
    "features_downsampled, target_downsampled = downsample(features_train, target_train, 0.25)"
   ]
  },
  {
   "cell_type": "markdown",
   "metadata": {},
   "source": [
    "Итак перейдем к моделям, используя `upsampling`, и обучим их еще раз."
   ]
  },
  {
   "cell_type": "markdown",
   "metadata": {},
   "source": [
    "**Дерево решений. `upsampling`**"
   ]
  },
  {
   "cell_type": "code",
   "execution_count": 24,
   "metadata": {},
   "outputs": [
    {
     "name": "stdout",
     "output_type": "stream",
     "text": [
      "Глубина дерева: 5 f1 лучшей модели: 0.5963791267305644\n"
     ]
    }
   ],
   "source": [
    "best_model = None\n",
    "best_result = 0\n",
    "best_depth = 0\n",
    "for depth in range(1, 51):\n",
    "    model = DecisionTreeClassifier(random_state=12345, max_depth=depth)\n",
    "    model.fit(features_upsampled, target_upsampled)\n",
    "    predicted_valid = model.predict(features_valid)\n",
    "    result = f1_score(target_valid, predicted_valid)\n",
    "    if result > best_result:\n",
    "        best_model = model\n",
    "        best_result = result\n",
    "        best_depth = depth\n",
    "        \n",
    "print('Глубина дерева:', best_depth, 'f1 лучшей модели:', best_result)"
   ]
  },
  {
   "cell_type": "markdown",
   "metadata": {},
   "source": [
    "**Логистическая регрессия `upsampling`**"
   ]
  },
  {
   "cell_type": "code",
   "execution_count": 25,
   "metadata": {},
   "outputs": [
    {
     "name": "stdout",
     "output_type": "stream",
     "text": [
      "Лучшее количество итераций: 2 f1 лучшей модели: 0.49245432883240675\n"
     ]
    }
   ],
   "source": [
    "best_model = None\n",
    "best_result = 0\n",
    "best_max_iter = 0\n",
    "for max_iter in range(1, 51):\n",
    "    model = LogisticRegression(random_state=12345, solver='lbfgs', max_iter=max_iter)\n",
    "    model.fit(features_upsampled, target_upsampled) \n",
    "    predicted_valid = model.predict(features_valid) \n",
    "    result = f1_score(target_valid, predicted_valid)\n",
    "    if result > best_result:\n",
    "        best_model = model\n",
    "        best_result = result\n",
    "        best_max_iter = max_iter\n",
    "        \n",
    "print(\"Лучшее количество итераций:\", best_max_iter, \"f1 лучшей модели:\", best_result)"
   ]
  },
  {
   "cell_type": "markdown",
   "metadata": {},
   "source": [
    "**Случайный лес `upsampling`**"
   ]
  },
  {
   "cell_type": "code",
   "execution_count": 26,
   "metadata": {},
   "outputs": [
    {
     "name": "stdout",
     "output_type": "stream",
     "text": [
      "Наилучшее количество деревьев: 76 Наилучшая глубина 10 , f1 лучшей модели: 0.6260869565217393\n"
     ]
    }
   ],
   "source": [
    "best_model = None\n",
    "best_result = 0\n",
    "best_est = 0\n",
    "best_depth = 0\n",
    "for est in range(1, 101, 5):\n",
    "    for depth in range(3, 21):\n",
    "        model = RandomForestClassifier(random_state=12345, n_estimators=est, max_depth=depth)\n",
    "        model.fit(features_upsampled, target_upsampled) \n",
    "        predicted_valid = model.predict(features_valid) \n",
    "        result = f1_score(target_valid, predicted_valid)\n",
    "        if result > best_result:\n",
    "            best_model = model\n",
    "            best_result = result\n",
    "            best_est = est\n",
    "            best_depth = depth\n",
    "print(\"Наилучшее количество деревьев:\", best_est, \"Наилучшая глубина\", best_depth,  \", f1 лучшей модели:\", best_result)"
   ]
  },
  {
   "cell_type": "markdown",
   "metadata": {},
   "source": [
    "Проверка моделей для `downsampling`"
   ]
  },
  {
   "cell_type": "markdown",
   "metadata": {},
   "source": [
    "**Дерево решений. `downsampling`**"
   ]
  },
  {
   "cell_type": "code",
   "execution_count": 27,
   "metadata": {},
   "outputs": [
    {
     "name": "stdout",
     "output_type": "stream",
     "text": [
      "Глубина дерева: 5 f1 лучшей модели: 0.5965621840242669\n"
     ]
    }
   ],
   "source": [
    "best_model = None\n",
    "best_result = 0\n",
    "best_depth = 0\n",
    "for depth in range(1, 51):\n",
    "    model = DecisionTreeClassifier(random_state=12345, max_depth=depth)\n",
    "    model.fit(features_downsampled, target_downsampled)\n",
    "    predicted_valid = model.predict(features_valid)\n",
    "    result = f1_score(target_valid, predicted_valid)\n",
    "    if result > best_result:\n",
    "        best_model = model\n",
    "        best_result = result\n",
    "        best_depth = depth\n",
    "        \n",
    "print('Глубина дерева:', best_depth, 'f1 лучшей модели:', best_result)"
   ]
  },
  {
   "cell_type": "markdown",
   "metadata": {},
   "source": [
    "**Логистическая регрессия `downsampling`**"
   ]
  },
  {
   "cell_type": "code",
   "execution_count": 28,
   "metadata": {},
   "outputs": [
    {
     "name": "stdout",
     "output_type": "stream",
     "text": [
      "Лучшее количество итераций: 4 f1 лучшей модели: 0.49056603773584906\n"
     ]
    }
   ],
   "source": [
    "best_model = None\n",
    "best_result = 0\n",
    "best_max_iter = 0\n",
    "for max_iter in range(1, 51):\n",
    "    model = LogisticRegression(random_state=12345, solver='lbfgs', max_iter=max_iter)\n",
    "    model.fit(features_downsampled, target_downsampled) \n",
    "    predicted_valid = model.predict(features_valid) \n",
    "    result = f1_score(target_valid, predicted_valid)\n",
    "    if result > best_result:\n",
    "        best_model = model\n",
    "        best_result = result\n",
    "        best_max_iter = max_iter\n",
    "        \n",
    "print(\"Лучшее количество итераций:\", best_max_iter, \"f1 лучшей модели:\", best_result)"
   ]
  },
  {
   "cell_type": "markdown",
   "metadata": {},
   "source": [
    "**Случайный лес `downsampling`**"
   ]
  },
  {
   "cell_type": "code",
   "execution_count": 29,
   "metadata": {},
   "outputs": [
    {
     "name": "stdout",
     "output_type": "stream",
     "text": [
      "Наилучшее количество деревьев: 66 Наилучшая глубина 7 , f1 лучшей модели: 0.6038095238095238\n"
     ]
    }
   ],
   "source": [
    "best_model = None\n",
    "best_result = 0\n",
    "best_est = 0\n",
    "best_depth = 0\n",
    "for est in range(1, 101, 5):\n",
    "    for depth in range(3, 21):\n",
    "        model = RandomForestClassifier(random_state=12345, n_estimators=est, max_depth=depth)\n",
    "        model.fit(features_downsampled, target_downsampled) \n",
    "        predicted_valid = model.predict(features_valid) \n",
    "        result = f1_score(target_valid, predicted_valid)\n",
    "        if result > best_result:\n",
    "            best_model = model\n",
    "            best_result = result\n",
    "            best_est = est\n",
    "            best_depth = depth\n",
    "print(\"Наилучшее количество деревьев:\", best_est, \"Наилучшая глубина\", best_depth,  \", f1 лучшей модели:\", best_result)"
   ]
  },
  {
   "cell_type": "markdown",
   "metadata": {},
   "source": [
    "### Вывод ###"
   ]
  },
  {
   "cell_type": "markdown",
   "metadata": {},
   "source": [
    "После устранения дисбаланаса, перед нами предстает такой результат:\n",
    "\n",
    "- Модели при `upsampling`\n",
    "    - Модель дерево решений показала f1 – 0.6\n",
    "    - Модель случайного леса показала f1 – 0.63\n",
    "    - Модель логистической регрессии показала f1 – 0.49\n",
    "\n",
    "\n",
    "- Модели при `downsampling`\n",
    "    - Модель дерево решений показала f1 – 0.59\n",
    "    - Модель случайного леса показала f1 – 0.6\n",
    "    - Модель логистической регрессии показала f1 – 0.49\n",
    "    \n",
    "\n",
    "Наилучшую метрику f1 показала модель случайного леса с гиперпараметром `n_estimators=76` и `max_depth=10` при технике `upsampling`.\n",
    "Модель логистической регрессии показала наихудшую точность, но прибавила в качестве.\n",
    "\n",
    "Как итог лучшая модель и ее гиперпараметры выглядят так:\n",
    "- модель – случайный лес\n",
    "- количество деревьев – 76\n",
    "- глубина – 10\n",
    "- показатель f1 – 0.63"
   ]
  },
  {
   "cell_type": "markdown",
   "metadata": {},
   "source": [
    "## Тестирование модели"
   ]
  },
  {
   "cell_type": "code",
   "execution_count": 33,
   "metadata": {
    "scrolled": true
   },
   "outputs": [
    {
     "name": "stdout",
     "output_type": "stream",
     "text": [
      "f1 лучшей модели: 0.6025641025641025\n"
     ]
    }
   ],
   "source": [
    "model = RandomForestClassifier(random_state=12345, n_estimators=76, max_depth=10)\n",
    "model.fit(features_upsampled, target_upsampled) \n",
    "predicted_test = model.predict(features_test) \n",
    "print('f1 лучшей модели:', f1_score(target_test, predicted_test))"
   ]
  },
  {
   "cell_type": "markdown",
   "metadata": {},
   "source": [
    "Качество метрики f1 чуть упало на тестовой выборке, но нам удалось достичь метрики f1, выше чем 0.59\n",
    "\n",
    "Теперь же измерим AUC-ROC, сравним её значение с F1-мерой."
   ]
  },
  {
   "cell_type": "code",
   "execution_count": 31,
   "metadata": {},
   "outputs": [
    {
     "name": "stdout",
     "output_type": "stream",
     "text": [
      "0.8420168168006105\n"
     ]
    }
   ],
   "source": [
    "probabilities_valid = model.predict_proba(features_test)\n",
    "probabilities_one_valid = probabilities_valid[:, 1]\n",
    "\n",
    "auc_roc = roc_auc_score(target_test, probabilities_one_valid)\n",
    "\n",
    "print(auc_roc)"
   ]
  },
  {
   "cell_type": "markdown",
   "metadata": {},
   "source": [
    "Метрика лучше, чем у случайной модели. Теперь построим ROC-кривую"
   ]
  },
  {
   "cell_type": "code",
   "execution_count": 32,
   "metadata": {},
   "outputs": [
    {
     "data": {
      "image/png": "[encoded data removed]",
      "text/plain": [
       "<Figure size 432x288 with 1 Axes>"
      ]
     },
     "metadata": {
      "needs_background": "light"
     },
     "output_type": "display_data"
    }
   ],
   "source": [
    "fpr, tpr, thresholds = roc_curve(target_test, probabilities_one_valid) \n",
    "\n",
    "plt.figure()\n",
    "\n",
    "plt.plot([0, 1], [0, 1], linestyle='--')\n",
    "\n",
    "plt.plot(fpr, tpr)\n",
    "plt.xlim([0.0, 1.0])\n",
    "plt.ylim([0.0, 1.0])\n",
    "plt.xlabel('False Positive Rate')\n",
    "plt.ylabel('True Positive Rate')\n",
    "plt.title('ROC-кривая')\n",
    "\n",
    "\n",
    "plt.show()"
   ]
  },
  {
   "cell_type": "markdown",
   "metadata": {},
   "source": [
    "### Вывод"
   ]
  },
  {
   "cell_type": "markdown",
   "metadata": {},
   "source": [
    "Модель показала f1 метрику 0.63 и AUC-ROC = 0.84, это говорит о том в целом модель качественная и сбалансированная."
   ]
  },
  {
   "cell_type": "markdown",
   "metadata": {},
   "source": [
    "## Чек-лист готовности проекта"
   ]
  },
  {
   "cell_type": "markdown",
   "metadata": {},
   "source": [
    "Поставьте 'x' в выполненных пунктах. Далее нажмите Shift+Enter."
   ]
  },
  {
   "cell_type": "markdown",
   "metadata": {},
   "source": [
    "- [x]  Jupyter Notebook открыт\n",
    "- [x]  Весь код выполняется без ошибок\n",
    "- [x]  Ячейки с кодом расположены в порядке исполнения\n",
    "- [x]  Выполнен шаг 1: данные подготовлены\n",
    "- [x]  Выполнен шаг 2: задача исследована\n",
    "    - [x]  Исследован баланс классов\n",
    "    - [x]  Изучены модели без учёта дисбаланса\n",
    "    - [x]  Написаны выводы по результатам исследования\n",
    "- [x]  Выполнен шаг 3: учтён дисбаланс\n",
    "    - [ ]  Применено несколько способов борьбы с дисбалансом\n",
    "    - [ ]  Написаны выводы по результатам исследования\n",
    "- [ ]  Выполнен шаг 4: проведено тестирование\n",
    "- [ ]  Удалось достичь *F1*-меры не менее 0.59\n",
    "- [ ]  Исследована метрика *AUC-ROC*"
   ]
  },
  {
   "cell_type": "markdown",
   "metadata": {},
   "source": [
    "## Общий вывод"
   ]
  },
  {
   "cell_type": "markdown",
   "metadata": {},
   "source": [
    "Весь план был выполнен, а именно:\n",
    "- *Подготовка данных.*\n",
    "    - Данные подготовлены, теперь можем перейти к исследованию..\n",
    "- *Исследование задачи.*\n",
    "    - Модель дерево решений показала f1 – 0.58\n",
    "    - Модель случайного леса показала f1 – 0.6\n",
    "    - Модель логистической регрессии показала f1 – 0.35\n",
    "\n",
    "    - Наилучшую метрику f1 показала модель случайного леса с гиперпараметром `n_estimators=31` и `max_depth=13`.\n",
    "        Так же модель дерево решений с гиперпараметром `max_depth=9`, показала почти такое же качество, что и модель случайного леса.\n",
    "        Модель логистической регрессии показала наихудшую точность.\n",
    "- *Борьба с дисбалансом*\n",
    "    - Модели при `upsampling`\n",
    "        - Модель дерево решений показала f1 – 0.6\n",
    "        - Модель случайного леса показала f1 – 0.63\n",
    "        - Модель логистической регрессии показала f1 – 0.49\n",
    "    - Модели при `downsampling`\n",
    "        - Модель дерево решений показала f1 – 0.59\n",
    "        - Модель случайного леса показала f1 – 0.6\n",
    "        - Модель логистической регрессии показала f1 – 0.49\n",
    "    - Наилучшую метрику f1 показала модель случайного леса с гиперпараметром `n_estimators=78` и `max_depth=10` при технике `upsampling`. Модель логистической регрессии показала наихудшую точность, но прибавила в качестве.\n",
    "\n",
    "    - Как итог лучшая модель и ее гиперпараметры выглядят так:\n",
    "        - модель – случайный лес\n",
    "        - количество деревьев – 76\n",
    "        - глубина – 10\n",
    "        - показатель f1 – 0.63\n",
    "- *Тестирование модели*\n",
    "    - Модель показала f1 метрику 0.63 и AUC-ROC = 0.84, это говорит о том в целом модель качественная и сбалансированная.\n",
    "\n"
   ]
  }
 ],
 "metadata": {
  "ExecuteTimeLog": [
   {
    "duration": 1457,
    "start_time": "2023-09-17T16:50:24.230Z"
   },
   {
    "duration": 127,
    "start_time": "2023-09-17T16:51:07.753Z"
   },
   {
    "duration": 90,
    "start_time": "2023-09-17T16:51:08.701Z"
   },
   {
    "duration": 28,
    "start_time": "2023-09-17T16:51:09.809Z"
   },
   {
    "duration": 7,
    "start_time": "2023-09-17T16:51:49.816Z"
   },
   {
    "duration": 10,
    "start_time": "2023-09-17T16:58:49.114Z"
   },
   {
    "duration": 9,
    "start_time": "2023-09-17T16:58:52.268Z"
   },
   {
    "duration": 518,
    "start_time": "2023-09-17T16:59:10.606Z"
   },
   {
    "duration": 9032,
    "start_time": "2023-09-17T16:59:13.863Z"
   },
   {
    "duration": 21469,
    "start_time": "2023-09-17T16:59:42.422Z"
   },
   {
    "duration": 61232,
    "start_time": "2023-09-17T17:01:18.953Z"
   },
   {
    "duration": 101,
    "start_time": "2023-09-17T17:08:38.376Z"
   },
   {
    "duration": 1383,
    "start_time": "2023-09-17T17:08:44.899Z"
   },
   {
    "duration": 19,
    "start_time": "2023-09-17T17:09:06.086Z"
   },
   {
    "duration": 9,
    "start_time": "2023-09-17T17:09:47.118Z"
   },
   {
    "duration": 33,
    "start_time": "2023-09-17T17:09:59.321Z"
   },
   {
    "duration": 8,
    "start_time": "2023-09-17T17:10:11.681Z"
   },
   {
    "duration": 14,
    "start_time": "2023-09-17T17:11:06.530Z"
   },
   {
    "duration": 6,
    "start_time": "2023-09-17T17:11:21.799Z"
   },
   {
    "duration": 10,
    "start_time": "2023-09-17T17:22:29.366Z"
   },
   {
    "duration": 89,
    "start_time": "2023-09-17T17:22:55.681Z"
   },
   {
    "duration": 39,
    "start_time": "2023-09-17T17:22:58.106Z"
   },
   {
    "duration": 1164,
    "start_time": "2023-09-17T17:25:04.517Z"
   },
   {
    "duration": 1155,
    "start_time": "2023-09-17T17:25:26.364Z"
   },
   {
    "duration": 1598,
    "start_time": "2023-09-17T17:25:39.424Z"
   },
   {
    "duration": 1621,
    "start_time": "2023-09-17T17:25:47.313Z"
   },
   {
    "duration": 48,
    "start_time": "2023-09-18T18:17:00.154Z"
   },
   {
    "duration": 1861,
    "start_time": "2023-09-18T18:17:05.635Z"
   },
   {
    "duration": 82,
    "start_time": "2023-09-18T18:17:07.498Z"
   },
   {
    "duration": 27,
    "start_time": "2023-09-18T18:17:07.582Z"
   },
   {
    "duration": 1698,
    "start_time": "2023-09-18T18:17:07.611Z"
   },
   {
    "duration": 1529,
    "start_time": "2023-09-18T18:17:09.311Z"
   },
   {
    "duration": 18,
    "start_time": "2023-09-18T18:26:28.521Z"
   },
   {
    "duration": 12,
    "start_time": "2023-09-18T18:26:45.649Z"
   },
   {
    "duration": 147,
    "start_time": "2023-09-18T18:26:51.611Z"
   },
   {
    "duration": 12,
    "start_time": "2023-09-18T18:26:55.096Z"
   },
   {
    "duration": 10,
    "start_time": "2023-09-18T18:27:41.895Z"
   },
   {
    "duration": 9,
    "start_time": "2023-09-18T18:27:55.047Z"
   },
   {
    "duration": 15,
    "start_time": "2023-09-18T18:28:02.023Z"
   },
   {
    "duration": 1635,
    "start_time": "2023-09-18T18:28:11.337Z"
   },
   {
    "duration": 44,
    "start_time": "2023-09-18T18:28:12.975Z"
   },
   {
    "duration": 31,
    "start_time": "2023-09-18T18:28:13.021Z"
   },
   {
    "duration": 1613,
    "start_time": "2023-09-18T18:28:13.055Z"
   },
   {
    "duration": 3026,
    "start_time": "2023-09-18T18:28:14.669Z"
   },
   {
    "duration": 28,
    "start_time": "2023-09-18T18:28:17.697Z"
   },
   {
    "duration": 34,
    "start_time": "2023-09-18T18:28:56.115Z"
   },
   {
    "duration": 16,
    "start_time": "2023-09-18T18:29:13.632Z"
   },
   {
    "duration": 21,
    "start_time": "2023-09-18T18:29:27.211Z"
   },
   {
    "duration": 7,
    "start_time": "2023-09-18T18:30:34.273Z"
   },
   {
    "duration": 9,
    "start_time": "2023-09-18T18:30:40.909Z"
   },
   {
    "duration": 20,
    "start_time": "2023-09-18T18:30:45.336Z"
   },
   {
    "duration": 19,
    "start_time": "2023-09-18T18:50:30.099Z"
   },
   {
    "duration": 149,
    "start_time": "2023-09-18T19:02:00.250Z"
   },
   {
    "duration": 24,
    "start_time": "2023-09-18T19:02:10.409Z"
   },
   {
    "duration": 1645,
    "start_time": "2023-09-19T19:14:28.287Z"
   },
   {
    "duration": 84,
    "start_time": "2023-09-19T19:14:29.934Z"
   },
   {
    "duration": 31,
    "start_time": "2023-09-19T19:14:30.020Z"
   },
   {
    "duration": 2632,
    "start_time": "2023-09-19T19:14:30.053Z"
   },
   {
    "duration": 1500,
    "start_time": "2023-09-19T19:14:32.689Z"
   },
   {
    "duration": 19,
    "start_time": "2023-09-19T19:14:34.191Z"
   },
   {
    "duration": 28,
    "start_time": "2023-09-19T19:14:34.213Z"
   },
   {
    "duration": 7,
    "start_time": "2023-09-19T19:14:34.243Z"
   },
   {
    "duration": 31,
    "start_time": "2023-09-19T19:14:34.253Z"
   },
   {
    "duration": 19,
    "start_time": "2023-09-19T19:14:34.286Z"
   },
   {
    "duration": 7,
    "start_time": "2023-09-19T19:31:09.383Z"
   },
   {
    "duration": 5,
    "start_time": "2023-09-19T19:31:10.846Z"
   },
   {
    "duration": 174,
    "start_time": "2023-09-19T19:31:12.394Z"
   },
   {
    "duration": 1684,
    "start_time": "2023-09-19T19:31:23.120Z"
   },
   {
    "duration": 45,
    "start_time": "2023-09-19T19:31:24.806Z"
   },
   {
    "duration": 31,
    "start_time": "2023-09-19T19:31:24.853Z"
   },
   {
    "duration": 1734,
    "start_time": "2023-09-19T19:31:24.886Z"
   },
   {
    "duration": 1519,
    "start_time": "2023-09-19T19:31:26.624Z"
   },
   {
    "duration": 11,
    "start_time": "2023-09-19T19:31:28.145Z"
   },
   {
    "duration": 22,
    "start_time": "2023-09-19T19:31:28.157Z"
   },
   {
    "duration": 30,
    "start_time": "2023-09-19T19:31:28.180Z"
   },
   {
    "duration": 6,
    "start_time": "2023-09-19T19:31:28.211Z"
   },
   {
    "duration": 139,
    "start_time": "2023-09-19T19:31:28.218Z"
   },
   {
    "duration": 11,
    "start_time": "2023-09-19T19:31:52.636Z"
   },
   {
    "duration": 8,
    "start_time": "2023-09-19T19:35:50.789Z"
   },
   {
    "duration": 22,
    "start_time": "2023-09-19T19:36:45.364Z"
   },
   {
    "duration": 1527,
    "start_time": "2023-09-19T19:37:05.613Z"
   },
   {
    "duration": 45,
    "start_time": "2023-09-19T19:37:07.142Z"
   },
   {
    "duration": 30,
    "start_time": "2023-09-19T19:37:07.189Z"
   },
   {
    "duration": 1565,
    "start_time": "2023-09-19T19:37:07.222Z"
   },
   {
    "duration": 2729,
    "start_time": "2023-09-19T19:37:08.789Z"
   },
   {
    "duration": 10,
    "start_time": "2023-09-19T19:37:11.520Z"
   },
   {
    "duration": 83,
    "start_time": "2023-09-19T19:37:11.531Z"
   },
   {
    "duration": 7,
    "start_time": "2023-09-19T19:37:11.616Z"
   },
   {
    "duration": 6,
    "start_time": "2023-09-19T19:37:11.625Z"
   },
   {
    "duration": 32,
    "start_time": "2023-09-19T19:37:11.632Z"
   },
   {
    "duration": 18,
    "start_time": "2023-09-19T19:37:11.710Z"
   },
   {
    "duration": 133,
    "start_time": "2023-09-19T19:38:33.660Z"
   },
   {
    "duration": 123,
    "start_time": "2023-09-19T19:39:24.947Z"
   },
   {
    "duration": 85,
    "start_time": "2023-09-19T19:39:52.156Z"
   },
   {
    "duration": 16,
    "start_time": "2023-09-19T19:40:34.865Z"
   },
   {
    "duration": 39,
    "start_time": "2023-09-19T19:40:49.357Z"
   },
   {
    "duration": 16,
    "start_time": "2023-09-19T19:42:12.156Z"
   },
   {
    "duration": 1627,
    "start_time": "2023-09-19T19:46:15.475Z"
   },
   {
    "duration": 45,
    "start_time": "2023-09-19T19:46:17.104Z"
   },
   {
    "duration": 28,
    "start_time": "2023-09-19T19:46:17.150Z"
   },
   {
    "duration": 1608,
    "start_time": "2023-09-19T19:46:17.180Z"
   },
   {
    "duration": 1450,
    "start_time": "2023-09-19T19:46:18.791Z"
   },
   {
    "duration": 10,
    "start_time": "2023-09-19T19:46:20.243Z"
   },
   {
    "duration": 20,
    "start_time": "2023-09-19T19:46:20.254Z"
   },
   {
    "duration": 8,
    "start_time": "2023-09-19T19:46:20.276Z"
   },
   {
    "duration": 24,
    "start_time": "2023-09-19T19:46:20.285Z"
   },
   {
    "duration": 24,
    "start_time": "2023-09-19T19:46:20.311Z"
   },
   {
    "duration": 17,
    "start_time": "2023-09-19T19:46:20.337Z"
   },
   {
    "duration": 33,
    "start_time": "2023-09-19T19:46:20.355Z"
   },
   {
    "duration": 2025,
    "start_time": "2023-09-20T09:52:23.757Z"
   },
   {
    "duration": 86,
    "start_time": "2023-09-20T09:52:25.785Z"
   },
   {
    "duration": 33,
    "start_time": "2023-09-20T09:52:25.873Z"
   },
   {
    "duration": 1695,
    "start_time": "2023-09-20T09:52:25.908Z"
   },
   {
    "duration": 2871,
    "start_time": "2023-09-20T09:52:27.605Z"
   },
   {
    "duration": 11,
    "start_time": "2023-09-20T09:52:30.478Z"
   },
   {
    "duration": 159,
    "start_time": "2023-09-20T09:52:30.491Z"
   },
   {
    "duration": 137,
    "start_time": "2023-09-20T09:52:30.653Z"
   },
   {
    "duration": 64,
    "start_time": "2023-09-20T09:52:30.792Z"
   },
   {
    "duration": 45,
    "start_time": "2023-09-20T09:52:30.859Z"
   },
   {
    "duration": 57,
    "start_time": "2023-09-20T09:52:30.906Z"
   },
   {
    "duration": 199,
    "start_time": "2023-09-20T09:52:30.968Z"
   },
   {
    "duration": 1397,
    "start_time": "2023-09-20T09:52:38.368Z"
   },
   {
    "duration": 55,
    "start_time": "2023-09-20T16:59:30.898Z"
   },
   {
    "duration": 1867,
    "start_time": "2023-09-20T16:59:52.023Z"
   },
   {
    "duration": 78,
    "start_time": "2023-09-20T16:59:57.907Z"
   },
   {
    "duration": 1533,
    "start_time": "2023-09-20T17:00:38.460Z"
   },
   {
    "duration": 83,
    "start_time": "2023-09-20T17:00:39.995Z"
   },
   {
    "duration": 28,
    "start_time": "2023-09-20T17:00:40.080Z"
   },
   {
    "duration": 1544,
    "start_time": "2023-09-20T17:00:40.110Z"
   },
   {
    "duration": 2359,
    "start_time": "2023-09-20T17:00:41.656Z"
   },
   {
    "duration": 9,
    "start_time": "2023-09-20T17:00:44.024Z"
   },
   {
    "duration": 68,
    "start_time": "2023-09-20T17:00:44.035Z"
   },
   {
    "duration": 13,
    "start_time": "2023-09-20T17:00:44.105Z"
   },
   {
    "duration": 22,
    "start_time": "2023-09-20T17:00:44.120Z"
   },
   {
    "duration": 32,
    "start_time": "2023-09-20T17:00:44.144Z"
   },
   {
    "duration": 40,
    "start_time": "2023-09-20T17:00:44.177Z"
   },
   {
    "duration": 1186,
    "start_time": "2023-09-20T17:00:44.218Z"
   },
   {
    "duration": 21723,
    "start_time": "2023-09-20T17:00:45.406Z"
   },
   {
    "duration": 8857,
    "start_time": "2023-09-20T17:01:32.371Z"
   },
   {
    "duration": 124,
    "start_time": "2023-09-20T17:05:52.788Z"
   },
   {
    "duration": 13,
    "start_time": "2023-09-20T17:06:02.294Z"
   },
   {
    "duration": 12,
    "start_time": "2023-09-20T17:06:25.222Z"
   },
   {
    "duration": 8556,
    "start_time": "2023-09-20T17:06:28.041Z"
   },
   {
    "duration": 8553,
    "start_time": "2023-09-20T17:10:20.511Z"
   },
   {
    "duration": 4427,
    "start_time": "2023-09-20T17:13:34.954Z"
   },
   {
    "duration": 5,
    "start_time": "2023-09-20T17:30:48.803Z"
   },
   {
    "duration": 1541,
    "start_time": "2023-09-20T18:59:23.214Z"
   },
   {
    "duration": 42,
    "start_time": "2023-09-20T18:59:24.757Z"
   },
   {
    "duration": 29,
    "start_time": "2023-09-20T18:59:24.801Z"
   },
   {
    "duration": 1619,
    "start_time": "2023-09-20T18:59:24.832Z"
   },
   {
    "duration": 1890,
    "start_time": "2023-09-20T18:59:26.453Z"
   },
   {
    "duration": 10,
    "start_time": "2023-09-20T18:59:28.345Z"
   },
   {
    "duration": 69,
    "start_time": "2023-09-20T18:59:28.357Z"
   },
   {
    "duration": 7,
    "start_time": "2023-09-20T18:59:28.428Z"
   },
   {
    "duration": 9,
    "start_time": "2023-09-20T18:59:28.437Z"
   },
   {
    "duration": 15,
    "start_time": "2023-09-20T18:59:28.448Z"
   },
   {
    "duration": 68,
    "start_time": "2023-09-20T18:59:28.465Z"
   },
   {
    "duration": 1620,
    "start_time": "2023-09-20T18:59:28.535Z"
   },
   {
    "duration": 9672,
    "start_time": "2023-09-20T18:59:30.157Z"
   },
   {
    "duration": 8911,
    "start_time": "2023-09-20T18:59:39.833Z"
   },
   {
    "duration": 4,
    "start_time": "2023-09-20T18:59:48.745Z"
   },
   {
    "duration": 182,
    "start_time": "2023-09-20T18:59:48.751Z"
   },
   {
    "duration": 0,
    "start_time": "2023-09-20T18:59:48.934Z"
   },
   {
    "duration": 5,
    "start_time": "2023-09-20T19:00:24.536Z"
   },
   {
    "duration": 1519,
    "start_time": "2023-09-20T19:01:50.478Z"
   },
   {
    "duration": 4,
    "start_time": "2023-09-20T19:02:18.598Z"
   },
   {
    "duration": 1362,
    "start_time": "2023-09-20T19:02:22.508Z"
   },
   {
    "duration": 1539,
    "start_time": "2023-09-20T19:02:47.430Z"
   },
   {
    "duration": 11,
    "start_time": "2023-09-20T19:04:21.225Z"
   },
   {
    "duration": 24,
    "start_time": "2023-09-20T19:06:15.934Z"
   },
   {
    "duration": 1565,
    "start_time": "2023-09-20T19:06:56.510Z"
   },
   {
    "duration": 41,
    "start_time": "2023-09-20T19:06:58.077Z"
   },
   {
    "duration": 26,
    "start_time": "2023-09-20T19:06:58.119Z"
   },
   {
    "duration": 1538,
    "start_time": "2023-09-20T19:06:58.147Z"
   },
   {
    "duration": 1471,
    "start_time": "2023-09-20T19:06:59.688Z"
   },
   {
    "duration": 12,
    "start_time": "2023-09-20T19:07:01.162Z"
   },
   {
    "duration": 60,
    "start_time": "2023-09-20T19:07:01.176Z"
   },
   {
    "duration": 79,
    "start_time": "2023-09-20T19:07:01.238Z"
   },
   {
    "duration": 103,
    "start_time": "2023-09-20T19:07:01.319Z"
   },
   {
    "duration": 57,
    "start_time": "2023-09-20T19:07:01.424Z"
   },
   {
    "duration": 83,
    "start_time": "2023-09-20T19:07:01.483Z"
   },
   {
    "duration": 1294,
    "start_time": "2023-09-20T19:07:01.569Z"
   },
   {
    "duration": 11865,
    "start_time": "2023-09-20T19:07:02.864Z"
   },
   {
    "duration": 9359,
    "start_time": "2023-09-20T19:07:14.823Z"
   },
   {
    "duration": 5,
    "start_time": "2023-09-20T19:07:24.184Z"
   },
   {
    "duration": 214,
    "start_time": "2023-09-20T19:07:24.191Z"
   },
   {
    "duration": 0,
    "start_time": "2023-09-20T19:07:24.407Z"
   },
   {
    "duration": 18,
    "start_time": "2023-09-20T19:07:39.443Z"
   },
   {
    "duration": 1601,
    "start_time": "2023-09-20T19:08:14.960Z"
   },
   {
    "duration": 44,
    "start_time": "2023-09-20T19:08:16.563Z"
   },
   {
    "duration": 28,
    "start_time": "2023-09-20T19:08:16.608Z"
   },
   {
    "duration": 1559,
    "start_time": "2023-09-20T19:08:16.638Z"
   },
   {
    "duration": 1391,
    "start_time": "2023-09-20T19:08:18.199Z"
   },
   {
    "duration": 12,
    "start_time": "2023-09-20T19:08:19.592Z"
   },
   {
    "duration": 75,
    "start_time": "2023-09-20T19:08:19.605Z"
   },
   {
    "duration": 50,
    "start_time": "2023-09-20T19:08:19.682Z"
   },
   {
    "duration": 4,
    "start_time": "2023-09-20T19:08:19.734Z"
   },
   {
    "duration": 19,
    "start_time": "2023-09-20T19:08:19.740Z"
   },
   {
    "duration": 17,
    "start_time": "2023-09-20T19:08:19.760Z"
   },
   {
    "duration": 1292,
    "start_time": "2023-09-20T19:08:19.779Z"
   },
   {
    "duration": 9159,
    "start_time": "2023-09-20T19:08:21.073Z"
   },
   {
    "duration": 8819,
    "start_time": "2023-09-20T19:08:30.236Z"
   },
   {
    "duration": 132,
    "start_time": "2023-09-20T19:08:39.057Z"
   },
   {
    "duration": 0,
    "start_time": "2023-09-20T19:08:39.191Z"
   },
   {
    "duration": 0,
    "start_time": "2023-09-20T19:08:39.192Z"
   },
   {
    "duration": 6,
    "start_time": "2023-09-20T19:09:17.901Z"
   },
   {
    "duration": 11,
    "start_time": "2023-09-20T19:09:24.771Z"
   },
   {
    "duration": 16,
    "start_time": "2023-09-20T19:09:29.574Z"
   },
   {
    "duration": 88,
    "start_time": "2023-09-20T19:09:54.056Z"
   },
   {
    "duration": 17,
    "start_time": "2023-09-20T19:09:58.295Z"
   },
   {
    "duration": 7,
    "start_time": "2023-09-20T19:10:14.777Z"
   },
   {
    "duration": 12,
    "start_time": "2023-09-20T19:10:16.976Z"
   },
   {
    "duration": 4,
    "start_time": "2023-09-20T19:10:19.683Z"
   },
   {
    "duration": 17,
    "start_time": "2023-09-20T19:10:21.189Z"
   },
   {
    "duration": 13,
    "start_time": "2023-09-20T19:12:04.571Z"
   },
   {
    "duration": 7,
    "start_time": "2023-09-20T19:12:12.801Z"
   },
   {
    "duration": 6,
    "start_time": "2023-09-20T19:12:23.984Z"
   },
   {
    "duration": 12,
    "start_time": "2023-09-20T19:12:34.021Z"
   },
   {
    "duration": 10,
    "start_time": "2023-09-20T19:12:39.285Z"
   },
   {
    "duration": 11,
    "start_time": "2023-09-20T19:12:41.381Z"
   },
   {
    "duration": 6,
    "start_time": "2023-09-20T19:12:45.467Z"
   },
   {
    "duration": 4,
    "start_time": "2023-09-20T19:12:52.403Z"
   },
   {
    "duration": 1542,
    "start_time": "2023-09-20T19:13:47.594Z"
   },
   {
    "duration": 41,
    "start_time": "2023-09-20T19:13:49.138Z"
   },
   {
    "duration": 29,
    "start_time": "2023-09-20T19:13:49.181Z"
   },
   {
    "duration": 1567,
    "start_time": "2023-09-20T19:13:49.211Z"
   },
   {
    "duration": 1398,
    "start_time": "2023-09-20T19:13:50.781Z"
   },
   {
    "duration": 10,
    "start_time": "2023-09-20T19:13:52.181Z"
   },
   {
    "duration": 213,
    "start_time": "2023-09-20T19:13:52.193Z"
   },
   {
    "duration": 66,
    "start_time": "2023-09-20T19:13:52.407Z"
   },
   {
    "duration": 28,
    "start_time": "2023-09-20T19:13:52.475Z"
   },
   {
    "duration": 56,
    "start_time": "2023-09-20T19:13:52.505Z"
   },
   {
    "duration": 34,
    "start_time": "2023-09-20T19:13:52.563Z"
   },
   {
    "duration": 1207,
    "start_time": "2023-09-20T19:13:52.599Z"
   },
   {
    "duration": 11322,
    "start_time": "2023-09-20T19:13:53.807Z"
   },
   {
    "duration": 9284,
    "start_time": "2023-09-20T19:14:05.133Z"
   },
   {
    "duration": 13,
    "start_time": "2023-09-20T19:14:14.419Z"
   },
   {
    "duration": 19,
    "start_time": "2023-09-20T19:14:14.434Z"
   },
   {
    "duration": 15,
    "start_time": "2023-09-20T19:14:14.454Z"
   },
   {
    "duration": 135,
    "start_time": "2023-09-20T19:14:14.471Z"
   },
   {
    "duration": 4,
    "start_time": "2023-09-20T19:14:50.392Z"
   },
   {
    "duration": 4,
    "start_time": "2023-09-20T19:14:55.116Z"
   },
   {
    "duration": 9,
    "start_time": "2023-09-20T19:14:58.570Z"
   },
   {
    "duration": 4,
    "start_time": "2023-09-20T19:17:42.799Z"
   },
   {
    "duration": 9,
    "start_time": "2023-09-20T19:17:50.578Z"
   },
   {
    "duration": 1603,
    "start_time": "2023-09-20T19:24:00.323Z"
   },
   {
    "duration": 16567,
    "start_time": "2023-09-20T19:26:07.562Z"
   },
   {
    "duration": 11516,
    "start_time": "2023-09-20T19:27:31.482Z"
   },
   {
    "duration": 4,
    "start_time": "2023-09-20T19:30:13.037Z"
   },
   {
    "duration": 3,
    "start_time": "2023-09-20T19:30:14.545Z"
   },
   {
    "duration": 1874,
    "start_time": "2023-09-20T19:30:20.396Z"
   },
   {
    "duration": 4,
    "start_time": "2023-09-20T19:30:22.274Z"
   },
   {
    "duration": 46,
    "start_time": "2023-09-20T19:30:22.279Z"
   },
   {
    "duration": 27,
    "start_time": "2023-09-20T19:30:22.328Z"
   },
   {
    "duration": 1497,
    "start_time": "2023-09-20T19:30:22.357Z"
   },
   {
    "duration": 1394,
    "start_time": "2023-09-20T19:30:23.856Z"
   },
   {
    "duration": 11,
    "start_time": "2023-09-20T19:30:25.252Z"
   },
   {
    "duration": 17,
    "start_time": "2023-09-20T19:30:25.265Z"
   },
   {
    "duration": 7,
    "start_time": "2023-09-20T19:30:25.284Z"
   },
   {
    "duration": 33,
    "start_time": "2023-09-20T19:30:25.293Z"
   },
   {
    "duration": 17,
    "start_time": "2023-09-20T19:30:25.327Z"
   },
   {
    "duration": 16,
    "start_time": "2023-09-20T19:30:25.346Z"
   },
   {
    "duration": 1261,
    "start_time": "2023-09-20T19:30:25.364Z"
   },
   {
    "duration": 10500,
    "start_time": "2023-09-20T19:30:26.626Z"
   },
   {
    "duration": 8714,
    "start_time": "2023-09-20T19:30:37.128Z"
   },
   {
    "duration": 11,
    "start_time": "2023-09-20T19:30:45.844Z"
   },
   {
    "duration": 55,
    "start_time": "2023-09-20T19:30:45.857Z"
   },
   {
    "duration": 39,
    "start_time": "2023-09-20T19:30:45.914Z"
   },
   {
    "duration": 8,
    "start_time": "2023-09-20T19:30:45.956Z"
   },
   {
    "duration": 35,
    "start_time": "2023-09-20T19:30:45.966Z"
   },
   {
    "duration": 1637,
    "start_time": "2023-09-20T19:30:46.003Z"
   },
   {
    "duration": 10387,
    "start_time": "2023-09-20T19:30:47.642Z"
   },
   {
    "duration": 11731,
    "start_time": "2023-09-20T19:30:58.031Z"
   },
   {
    "duration": 618,
    "start_time": "2023-09-20T19:33:31.217Z"
   },
   {
    "duration": 6310,
    "start_time": "2023-09-20T19:33:56.424Z"
   },
   {
    "duration": 4768,
    "start_time": "2023-09-20T19:34:50.604Z"
   },
   {
    "duration": 336,
    "start_time": "2023-09-20T19:55:26.419Z"
   },
   {
    "duration": 313,
    "start_time": "2023-09-20T19:55:47.934Z"
   },
   {
    "duration": 333,
    "start_time": "2023-09-20T19:56:03.312Z"
   },
   {
    "duration": 329,
    "start_time": "2023-09-20T19:56:13.838Z"
   },
   {
    "duration": 1689,
    "start_time": "2023-09-20T19:57:02.132Z"
   },
   {
    "duration": 4,
    "start_time": "2023-09-20T19:57:03.824Z"
   },
   {
    "duration": 68,
    "start_time": "2023-09-20T19:57:03.829Z"
   },
   {
    "duration": 28,
    "start_time": "2023-09-20T19:57:03.899Z"
   },
   {
    "duration": 1602,
    "start_time": "2023-09-20T19:57:03.930Z"
   },
   {
    "duration": 1525,
    "start_time": "2023-09-20T19:57:05.534Z"
   },
   {
    "duration": 10,
    "start_time": "2023-09-20T19:57:07.061Z"
   },
   {
    "duration": 35,
    "start_time": "2023-09-20T19:57:07.073Z"
   },
   {
    "duration": 12,
    "start_time": "2023-09-20T19:57:07.110Z"
   },
   {
    "duration": 25,
    "start_time": "2023-09-20T19:57:07.124Z"
   },
   {
    "duration": 39,
    "start_time": "2023-09-20T19:57:07.151Z"
   },
   {
    "duration": 23,
    "start_time": "2023-09-20T19:57:07.193Z"
   },
   {
    "duration": 1263,
    "start_time": "2023-09-20T19:57:07.218Z"
   },
   {
    "duration": 14142,
    "start_time": "2023-09-20T19:57:08.484Z"
   },
   {
    "duration": 8743,
    "start_time": "2023-09-20T19:57:22.628Z"
   },
   {
    "duration": 15,
    "start_time": "2023-09-20T19:57:31.373Z"
   },
   {
    "duration": 194,
    "start_time": "2023-09-20T19:57:31.390Z"
   },
   {
    "duration": 41,
    "start_time": "2023-09-20T19:57:31.586Z"
   },
   {
    "duration": 27,
    "start_time": "2023-09-20T19:57:31.629Z"
   },
   {
    "duration": 35,
    "start_time": "2023-09-20T19:57:31.658Z"
   },
   {
    "duration": 1609,
    "start_time": "2023-09-20T19:57:31.695Z"
   },
   {
    "duration": 12228,
    "start_time": "2023-09-20T19:57:33.306Z"
   },
   {
    "duration": 11759,
    "start_time": "2023-09-20T19:57:45.625Z"
   },
   {
    "duration": 664,
    "start_time": "2023-09-20T19:57:57.386Z"
   },
   {
    "duration": 9981,
    "start_time": "2023-09-20T19:57:58.052Z"
   },
   {
    "duration": 4840,
    "start_time": "2023-09-20T19:58:08.036Z"
   },
   {
    "duration": 379,
    "start_time": "2023-09-20T19:58:12.878Z"
   },
   {
    "duration": 4,
    "start_time": "2023-09-20T20:06:12.299Z"
   },
   {
    "duration": 31,
    "start_time": "2023-09-20T20:06:20.332Z"
   },
   {
    "duration": 127,
    "start_time": "2023-09-20T20:11:28.353Z"
   },
   {
    "duration": 17,
    "start_time": "2023-09-20T20:12:05.824Z"
   },
   {
    "duration": 17,
    "start_time": "2023-09-20T20:12:09.951Z"
   },
   {
    "duration": 5,
    "start_time": "2023-09-20T20:12:41.351Z"
   },
   {
    "duration": 133,
    "start_time": "2023-09-20T20:12:45.240Z"
   },
   {
    "duration": 1603,
    "start_time": "2023-09-20T20:21:58.660Z"
   },
   {
    "duration": 4,
    "start_time": "2023-09-20T20:22:00.265Z"
   },
   {
    "duration": 181,
    "start_time": "2023-09-20T20:22:00.271Z"
   },
   {
    "duration": 101,
    "start_time": "2023-09-20T20:22:00.454Z"
   },
   {
    "duration": 1578,
    "start_time": "2023-09-20T20:22:00.557Z"
   },
   {
    "duration": 1468,
    "start_time": "2023-09-20T20:22:02.138Z"
   },
   {
    "duration": 20,
    "start_time": "2023-09-20T20:22:03.608Z"
   },
   {
    "duration": 431,
    "start_time": "2023-09-20T20:22:03.631Z"
   },
   {
    "duration": 184,
    "start_time": "2023-09-20T20:22:04.064Z"
   },
   {
    "duration": 37,
    "start_time": "2023-09-20T20:22:04.250Z"
   },
   {
    "duration": 101,
    "start_time": "2023-09-20T20:22:04.290Z"
   },
   {
    "duration": 60,
    "start_time": "2023-09-20T20:22:04.393Z"
   },
   {
    "duration": 1264,
    "start_time": "2023-09-20T20:22:04.455Z"
   },
   {
    "duration": 20703,
    "start_time": "2023-09-20T20:22:05.725Z"
   },
   {
    "duration": 9385,
    "start_time": "2023-09-20T20:22:26.430Z"
   },
   {
    "duration": 24,
    "start_time": "2023-09-20T20:22:35.817Z"
   },
   {
    "duration": 5,
    "start_time": "2023-09-20T20:22:35.844Z"
   },
   {
    "duration": 34,
    "start_time": "2023-09-20T20:22:35.851Z"
   },
   {
    "duration": 5,
    "start_time": "2023-09-20T20:22:35.887Z"
   },
   {
    "duration": 15,
    "start_time": "2023-09-20T20:22:35.894Z"
   },
   {
    "duration": 1581,
    "start_time": "2023-09-20T20:22:35.911Z"
   },
   {
    "duration": 16436,
    "start_time": "2023-09-20T20:22:37.493Z"
   },
   {
    "duration": 11988,
    "start_time": "2023-09-20T20:22:53.931Z"
   },
   {
    "duration": 646,
    "start_time": "2023-09-20T20:23:05.924Z"
   },
   {
    "duration": 21460,
    "start_time": "2023-09-20T20:23:06.571Z"
   },
   {
    "duration": 4847,
    "start_time": "2023-09-20T20:23:28.036Z"
   },
   {
    "duration": 358,
    "start_time": "2023-09-20T20:23:32.885Z"
   },
   {
    "duration": 27,
    "start_time": "2023-09-20T20:23:33.245Z"
   },
   {
    "duration": 129,
    "start_time": "2023-09-20T20:23:33.273Z"
   },
   {
    "duration": 1772,
    "start_time": "2023-09-21T19:15:07.803Z"
   },
   {
    "duration": 3,
    "start_time": "2023-09-21T19:15:10.996Z"
   },
   {
    "duration": 94,
    "start_time": "2023-09-21T19:15:12.475Z"
   },
   {
    "duration": 34,
    "start_time": "2023-09-21T19:15:13.869Z"
   },
   {
    "duration": 7,
    "start_time": "2023-09-21T19:15:20.493Z"
   },
   {
    "duration": 5,
    "start_time": "2023-09-21T19:15:29.000Z"
   },
   {
    "duration": 124,
    "start_time": "2023-09-21T19:19:51.208Z"
   },
   {
    "duration": 16,
    "start_time": "2023-09-21T19:20:03.795Z"
   },
   {
    "duration": 24,
    "start_time": "2023-09-21T19:20:31.686Z"
   },
   {
    "duration": 15,
    "start_time": "2023-09-21T19:20:35.675Z"
   },
   {
    "duration": 15,
    "start_time": "2023-09-21T19:21:39.604Z"
   },
   {
    "duration": 19,
    "start_time": "2023-09-21T19:22:01.115Z"
   },
   {
    "duration": 16,
    "start_time": "2023-09-21T19:22:03.815Z"
   },
   {
    "duration": 22,
    "start_time": "2023-09-21T19:22:12.280Z"
   },
   {
    "duration": 1680,
    "start_time": "2023-09-21T19:22:56.394Z"
   },
   {
    "duration": 3,
    "start_time": "2023-09-21T19:22:58.555Z"
   },
   {
    "duration": 41,
    "start_time": "2023-09-21T19:22:59.693Z"
   },
   {
    "duration": 27,
    "start_time": "2023-09-21T19:23:00.936Z"
   },
   {
    "duration": 1606,
    "start_time": "2023-09-21T19:23:05.210Z"
   },
   {
    "duration": 14,
    "start_time": "2023-09-21T19:23:38.169Z"
   },
   {
    "duration": 17,
    "start_time": "2023-09-21T19:23:40.670Z"
   },
   {
    "duration": 12,
    "start_time": "2023-09-21T19:23:42.819Z"
   },
   {
    "duration": 1645,
    "start_time": "2023-09-21T19:24:03.395Z"
   },
   {
    "duration": 3,
    "start_time": "2023-09-21T19:24:05.041Z"
   },
   {
    "duration": 57,
    "start_time": "2023-09-21T19:24:05.046Z"
   },
   {
    "duration": 27,
    "start_time": "2023-09-21T19:24:05.104Z"
   },
   {
    "duration": 1632,
    "start_time": "2023-09-21T19:24:05.133Z"
   },
   {
    "duration": 1488,
    "start_time": "2023-09-21T19:24:06.766Z"
   },
   {
    "duration": 14,
    "start_time": "2023-09-21T19:24:08.256Z"
   },
   {
    "duration": 11,
    "start_time": "2023-09-21T19:24:08.287Z"
   },
   {
    "duration": 25,
    "start_time": "2023-09-21T19:24:08.299Z"
   },
   {
    "duration": 7,
    "start_time": "2023-09-21T19:24:08.326Z"
   },
   {
    "duration": 7,
    "start_time": "2023-09-21T19:24:08.334Z"
   },
   {
    "duration": 25,
    "start_time": "2023-09-21T19:24:08.343Z"
   },
   {
    "duration": 31,
    "start_time": "2023-09-21T19:24:08.370Z"
   },
   {
    "duration": 1517,
    "start_time": "2023-09-21T19:24:08.404Z"
   },
   {
    "duration": 10665,
    "start_time": "2023-09-21T19:24:09.922Z"
   },
   {
    "duration": 9678,
    "start_time": "2023-09-21T19:24:20.591Z"
   },
   {
    "duration": 18,
    "start_time": "2023-09-21T19:24:30.271Z"
   },
   {
    "duration": 25,
    "start_time": "2023-09-21T19:24:30.291Z"
   },
   {
    "duration": 33,
    "start_time": "2023-09-21T19:24:30.317Z"
   },
   {
    "duration": 39,
    "start_time": "2023-09-21T19:24:30.352Z"
   },
   {
    "duration": 42,
    "start_time": "2023-09-21T19:24:30.393Z"
   },
   {
    "duration": 1926,
    "start_time": "2023-09-21T19:24:30.437Z"
   },
   {
    "duration": 10217,
    "start_time": "2023-09-21T19:24:32.365Z"
   },
   {
    "duration": 12842,
    "start_time": "2023-09-21T19:24:42.586Z"
   },
   {
    "duration": 730,
    "start_time": "2023-09-21T19:24:55.430Z"
   },
   {
    "duration": 7424,
    "start_time": "2023-09-21T19:24:56.162Z"
   },
   {
    "duration": 5194,
    "start_time": "2023-09-21T19:25:03.598Z"
   },
   {
    "duration": 403,
    "start_time": "2023-09-21T19:25:08.794Z"
   },
   {
    "duration": 19,
    "start_time": "2023-09-21T19:25:09.199Z"
   },
   {
    "duration": 151,
    "start_time": "2023-09-21T19:25:09.220Z"
   },
   {
    "duration": 1604,
    "start_time": "2023-09-21T19:25:31.397Z"
   },
   {
    "duration": 2,
    "start_time": "2023-09-21T19:25:33.003Z"
   },
   {
    "duration": 112,
    "start_time": "2023-09-21T19:25:33.007Z"
   },
   {
    "duration": 25,
    "start_time": "2023-09-21T19:25:33.121Z"
   },
   {
    "duration": 1530,
    "start_time": "2023-09-21T19:25:33.148Z"
   },
   {
    "duration": 1448,
    "start_time": "2023-09-21T19:25:34.680Z"
   },
   {
    "duration": 15,
    "start_time": "2023-09-21T19:25:36.130Z"
   },
   {
    "duration": 4,
    "start_time": "2023-09-21T19:25:36.147Z"
   },
   {
    "duration": 51,
    "start_time": "2023-09-21T19:25:36.153Z"
   },
   {
    "duration": 7,
    "start_time": "2023-09-21T19:25:36.207Z"
   },
   {
    "duration": 9,
    "start_time": "2023-09-21T19:25:36.216Z"
   },
   {
    "duration": 18,
    "start_time": "2023-09-21T19:25:36.226Z"
   },
   {
    "duration": 37,
    "start_time": "2023-09-21T19:25:36.246Z"
   },
   {
    "duration": 1630,
    "start_time": "2023-09-21T19:25:36.285Z"
   },
   {
    "duration": 8477,
    "start_time": "2023-09-21T19:25:37.917Z"
   },
   {
    "duration": 9419,
    "start_time": "2023-09-21T19:25:46.398Z"
   },
   {
    "duration": 13,
    "start_time": "2023-09-21T19:25:55.819Z"
   },
   {
    "duration": 4,
    "start_time": "2023-09-21T19:25:55.833Z"
   },
   {
    "duration": 21,
    "start_time": "2023-09-21T19:25:55.839Z"
   },
   {
    "duration": 9,
    "start_time": "2023-09-21T19:25:55.862Z"
   },
   {
    "duration": 16,
    "start_time": "2023-09-21T19:25:55.872Z"
   },
   {
    "duration": 1861,
    "start_time": "2023-09-21T19:25:55.890Z"
   },
   {
    "duration": 9243,
    "start_time": "2023-09-21T19:25:57.753Z"
   },
   {
    "duration": 13213,
    "start_time": "2023-09-21T19:26:07.001Z"
   },
   {
    "duration": 751,
    "start_time": "2023-09-21T19:26:20.215Z"
   },
   {
    "duration": 5628,
    "start_time": "2023-09-21T19:26:20.969Z"
   },
   {
    "duration": 5217,
    "start_time": "2023-09-21T19:26:26.600Z"
   },
   {
    "duration": 388,
    "start_time": "2023-09-21T19:26:31.820Z"
   },
   {
    "duration": 20,
    "start_time": "2023-09-21T19:26:32.210Z"
   },
   {
    "duration": 183,
    "start_time": "2023-09-21T19:26:32.232Z"
   },
   {
    "duration": 16,
    "start_time": "2023-09-21T19:27:46.499Z"
   },
   {
    "duration": 23,
    "start_time": "2023-09-21T19:27:48.974Z"
   },
   {
    "duration": 16,
    "start_time": "2023-09-21T19:28:05.395Z"
   },
   {
    "duration": 1688,
    "start_time": "2023-09-21T19:28:11.281Z"
   },
   {
    "duration": 3,
    "start_time": "2023-09-21T19:28:12.971Z"
   },
   {
    "duration": 49,
    "start_time": "2023-09-21T19:28:12.975Z"
   },
   {
    "duration": 29,
    "start_time": "2023-09-21T19:28:13.027Z"
   },
   {
    "duration": 1587,
    "start_time": "2023-09-21T19:28:13.058Z"
   },
   {
    "duration": 1523,
    "start_time": "2023-09-21T19:28:14.647Z"
   },
   {
    "duration": 162,
    "start_time": "2023-09-21T19:28:16.171Z"
   },
   {
    "duration": 0,
    "start_time": "2023-09-21T19:28:16.336Z"
   },
   {
    "duration": 0,
    "start_time": "2023-09-21T19:28:16.337Z"
   },
   {
    "duration": 0,
    "start_time": "2023-09-21T19:28:16.339Z"
   },
   {
    "duration": 0,
    "start_time": "2023-09-21T19:28:16.341Z"
   },
   {
    "duration": 0,
    "start_time": "2023-09-21T19:28:16.342Z"
   },
   {
    "duration": 0,
    "start_time": "2023-09-21T19:28:16.343Z"
   },
   {
    "duration": 0,
    "start_time": "2023-09-21T19:28:16.344Z"
   },
   {
    "duration": 0,
    "start_time": "2023-09-21T19:28:16.346Z"
   },
   {
    "duration": 0,
    "start_time": "2023-09-21T19:28:16.347Z"
   },
   {
    "duration": 0,
    "start_time": "2023-09-21T19:28:16.348Z"
   },
   {
    "duration": 0,
    "start_time": "2023-09-21T19:28:16.349Z"
   },
   {
    "duration": 0,
    "start_time": "2023-09-21T19:28:16.350Z"
   },
   {
    "duration": 0,
    "start_time": "2023-09-21T19:28:16.352Z"
   },
   {
    "duration": 0,
    "start_time": "2023-09-21T19:28:16.353Z"
   },
   {
    "duration": 0,
    "start_time": "2023-09-21T19:28:16.381Z"
   },
   {
    "duration": 0,
    "start_time": "2023-09-21T19:28:16.383Z"
   },
   {
    "duration": 0,
    "start_time": "2023-09-21T19:28:16.385Z"
   },
   {
    "duration": 0,
    "start_time": "2023-09-21T19:28:16.386Z"
   },
   {
    "duration": 0,
    "start_time": "2023-09-21T19:28:16.388Z"
   },
   {
    "duration": 0,
    "start_time": "2023-09-21T19:28:16.390Z"
   },
   {
    "duration": 1,
    "start_time": "2023-09-21T19:28:16.391Z"
   },
   {
    "duration": 0,
    "start_time": "2023-09-21T19:28:16.393Z"
   },
   {
    "duration": 1,
    "start_time": "2023-09-21T19:28:16.394Z"
   },
   {
    "duration": 16,
    "start_time": "2023-09-21T19:28:37.443Z"
   },
   {
    "duration": 20,
    "start_time": "2023-09-21T19:28:41.979Z"
   },
   {
    "duration": 20,
    "start_time": "2023-09-21T19:41:11.179Z"
   },
   {
    "duration": 4,
    "start_time": "2023-09-21T19:41:17.296Z"
   },
   {
    "duration": 15,
    "start_time": "2023-09-21T19:41:21.848Z"
   },
   {
    "duration": 15,
    "start_time": "2023-09-21T19:44:50.097Z"
   },
   {
    "duration": 13,
    "start_time": "2023-09-21T19:44:56.220Z"
   },
   {
    "duration": 15,
    "start_time": "2023-09-21T19:45:05.146Z"
   },
   {
    "duration": 12,
    "start_time": "2023-09-21T19:45:17.454Z"
   },
   {
    "duration": 13,
    "start_time": "2023-09-21T19:45:24.494Z"
   },
   {
    "duration": 1572,
    "start_time": "2023-09-21T19:45:47.286Z"
   },
   {
    "duration": 3,
    "start_time": "2023-09-21T19:45:48.860Z"
   },
   {
    "duration": 63,
    "start_time": "2023-09-21T19:45:48.865Z"
   },
   {
    "duration": 25,
    "start_time": "2023-09-21T19:45:48.930Z"
   },
   {
    "duration": 1562,
    "start_time": "2023-09-21T19:45:48.957Z"
   },
   {
    "duration": 1513,
    "start_time": "2023-09-21T19:45:50.521Z"
   },
   {
    "duration": 17,
    "start_time": "2023-09-21T19:45:52.036Z"
   },
   {
    "duration": 8,
    "start_time": "2023-09-21T19:45:52.055Z"
   },
   {
    "duration": 43,
    "start_time": "2023-09-21T19:45:52.065Z"
   },
   {
    "duration": 8,
    "start_time": "2023-09-21T19:45:52.109Z"
   },
   {
    "duration": 7,
    "start_time": "2023-09-21T19:45:52.118Z"
   },
   {
    "duration": 27,
    "start_time": "2023-09-21T19:45:52.126Z"
   },
   {
    "duration": 65,
    "start_time": "2023-09-21T19:45:52.156Z"
   },
   {
    "duration": 1776,
    "start_time": "2023-09-21T19:45:52.224Z"
   },
   {
    "duration": 8187,
    "start_time": "2023-09-21T19:45:54.002Z"
   },
   {
    "duration": 10988,
    "start_time": "2023-09-21T19:46:02.200Z"
   },
   {
    "duration": 18,
    "start_time": "2023-09-21T19:46:13.193Z"
   },
   {
    "duration": 5,
    "start_time": "2023-09-21T19:46:13.212Z"
   },
   {
    "duration": 18,
    "start_time": "2023-09-21T19:46:13.219Z"
   },
   {
    "duration": 6,
    "start_time": "2023-09-21T19:46:13.238Z"
   },
   {
    "duration": 13,
    "start_time": "2023-09-21T19:46:13.245Z"
   },
   {
    "duration": 2143,
    "start_time": "2023-09-21T19:46:13.260Z"
   },
   {
    "duration": 9681,
    "start_time": "2023-09-21T19:46:15.405Z"
   },
   {
    "duration": 14719,
    "start_time": "2023-09-21T19:46:25.089Z"
   },
   {
    "duration": 824,
    "start_time": "2023-09-21T19:46:39.809Z"
   },
   {
    "duration": 1674,
    "start_time": "2023-09-21T19:46:48.201Z"
   },
   {
    "duration": 4,
    "start_time": "2023-09-21T19:46:49.877Z"
   },
   {
    "duration": 53,
    "start_time": "2023-09-21T19:46:49.882Z"
   },
   {
    "duration": 25,
    "start_time": "2023-09-21T19:46:49.937Z"
   },
   {
    "duration": 1561,
    "start_time": "2023-09-21T19:46:49.964Z"
   },
   {
    "duration": 1420,
    "start_time": "2023-09-21T19:46:51.527Z"
   },
   {
    "duration": 20,
    "start_time": "2023-09-21T19:46:52.949Z"
   },
   {
    "duration": 14,
    "start_time": "2023-09-21T19:46:52.981Z"
   },
   {
    "duration": 33,
    "start_time": "2023-09-21T19:46:52.997Z"
   },
   {
    "duration": 9,
    "start_time": "2023-09-21T19:46:53.033Z"
   },
   {
    "duration": 19,
    "start_time": "2023-09-21T19:46:53.043Z"
   },
   {
    "duration": 29,
    "start_time": "2023-09-21T19:46:53.063Z"
   },
   {
    "duration": 31,
    "start_time": "2023-09-21T19:46:53.094Z"
   },
   {
    "duration": 1691,
    "start_time": "2023-09-21T19:46:53.126Z"
   },
   {
    "duration": 8664,
    "start_time": "2023-09-21T19:46:54.819Z"
   },
   {
    "duration": 10992,
    "start_time": "2023-09-21T19:47:03.485Z"
   },
   {
    "duration": 21,
    "start_time": "2023-09-21T19:47:14.479Z"
   },
   {
    "duration": 4,
    "start_time": "2023-09-21T19:47:14.502Z"
   },
   {
    "duration": 20,
    "start_time": "2023-09-21T19:47:14.508Z"
   },
   {
    "duration": 4,
    "start_time": "2023-09-21T19:47:14.530Z"
   },
   {
    "duration": 19,
    "start_time": "2023-09-21T19:47:14.535Z"
   },
   {
    "duration": 2160,
    "start_time": "2023-09-21T19:47:14.556Z"
   },
   {
    "duration": 8068,
    "start_time": "2023-09-21T19:47:16.718Z"
   },
   {
    "duration": 15000,
    "start_time": "2023-09-21T19:47:24.788Z"
   },
   {
    "duration": 735,
    "start_time": "2023-09-21T19:47:39.791Z"
   },
   {
    "duration": 4668,
    "start_time": "2023-09-21T19:47:40.528Z"
   },
   {
    "duration": 5601,
    "start_time": "2023-09-21T19:47:45.282Z"
   },
   {
    "duration": 431,
    "start_time": "2023-09-21T19:47:50.888Z"
   },
   {
    "duration": 27,
    "start_time": "2023-09-21T19:47:51.321Z"
   },
   {
    "duration": 142,
    "start_time": "2023-09-21T19:47:51.350Z"
   },
   {
    "duration": 1575,
    "start_time": "2023-09-21T19:50:38.195Z"
   },
   {
    "duration": 3,
    "start_time": "2023-09-21T19:50:39.772Z"
   },
   {
    "duration": 49,
    "start_time": "2023-09-21T19:50:39.781Z"
   },
   {
    "duration": 25,
    "start_time": "2023-09-21T19:50:39.831Z"
   },
   {
    "duration": 1573,
    "start_time": "2023-09-21T19:50:39.858Z"
   },
   {
    "duration": 1412,
    "start_time": "2023-09-21T19:50:41.433Z"
   },
   {
    "duration": 2,
    "start_time": "2023-09-21T19:50:42.847Z"
   },
   {
    "duration": 14,
    "start_time": "2023-09-21T19:50:42.851Z"
   },
   {
    "duration": 34,
    "start_time": "2023-09-21T19:50:42.867Z"
   },
   {
    "duration": 8,
    "start_time": "2023-09-21T19:50:42.902Z"
   },
   {
    "duration": 8,
    "start_time": "2023-09-21T19:50:42.912Z"
   },
   {
    "duration": 18,
    "start_time": "2023-09-21T19:50:42.922Z"
   },
   {
    "duration": 18,
    "start_time": "2023-09-21T19:50:42.942Z"
   },
   {
    "duration": 1282,
    "start_time": "2023-09-21T19:50:42.963Z"
   },
   {
    "duration": 7747,
    "start_time": "2023-09-21T19:50:44.246Z"
   },
   {
    "duration": 8864,
    "start_time": "2023-09-21T19:50:51.995Z"
   },
   {
    "duration": 12,
    "start_time": "2023-09-21T19:51:00.861Z"
   },
   {
    "duration": 58,
    "start_time": "2023-09-21T19:51:00.883Z"
   },
   {
    "duration": 36,
    "start_time": "2023-09-21T19:51:00.943Z"
   },
   {
    "duration": 33,
    "start_time": "2023-09-21T19:51:00.981Z"
   },
   {
    "duration": 54,
    "start_time": "2023-09-21T19:51:01.016Z"
   },
   {
    "duration": 1724,
    "start_time": "2023-09-21T19:51:01.072Z"
   },
   {
    "duration": 8092,
    "start_time": "2023-09-21T19:51:02.797Z"
   },
   {
    "duration": 12572,
    "start_time": "2023-09-21T19:51:10.892Z"
   },
   {
    "duration": 669,
    "start_time": "2023-09-21T19:51:23.465Z"
   },
   {
    "duration": 6460,
    "start_time": "2023-09-21T19:51:24.136Z"
   },
   {
    "duration": 4906,
    "start_time": "2023-09-21T19:51:30.599Z"
   },
   {
    "duration": 345,
    "start_time": "2023-09-21T19:51:35.507Z"
   },
   {
    "duration": 16,
    "start_time": "2023-09-21T19:51:35.854Z"
   },
   {
    "duration": 135,
    "start_time": "2023-09-21T19:51:35.881Z"
   },
   {
    "duration": 1613,
    "start_time": "2023-09-21T20:02:23.036Z"
   },
   {
    "duration": 3,
    "start_time": "2023-09-21T20:02:24.651Z"
   },
   {
    "duration": 61,
    "start_time": "2023-09-21T20:02:24.656Z"
   },
   {
    "duration": 29,
    "start_time": "2023-09-21T20:02:24.719Z"
   },
   {
    "duration": 1572,
    "start_time": "2023-09-21T20:02:24.751Z"
   },
   {
    "duration": 1478,
    "start_time": "2023-09-21T20:02:26.325Z"
   },
   {
    "duration": 19,
    "start_time": "2023-09-21T20:02:27.806Z"
   },
   {
    "duration": 8,
    "start_time": "2023-09-21T20:02:27.827Z"
   },
   {
    "duration": 50,
    "start_time": "2023-09-21T20:02:27.837Z"
   },
   {
    "duration": 12,
    "start_time": "2023-09-21T20:02:27.889Z"
   },
   {
    "duration": 8,
    "start_time": "2023-09-21T20:02:27.903Z"
   },
   {
    "duration": 25,
    "start_time": "2023-09-21T20:02:27.913Z"
   },
   {
    "duration": 79,
    "start_time": "2023-09-21T20:02:27.940Z"
   },
   {
    "duration": 1669,
    "start_time": "2023-09-21T20:02:28.023Z"
   },
   {
    "duration": 12589,
    "start_time": "2023-09-21T20:02:29.693Z"
   },
   {
    "duration": 10484,
    "start_time": "2023-09-21T20:02:42.284Z"
   },
   {
    "duration": 25,
    "start_time": "2023-09-21T20:02:52.770Z"
   },
   {
    "duration": 4,
    "start_time": "2023-09-21T20:02:52.797Z"
   },
   {
    "duration": 21,
    "start_time": "2023-09-21T20:02:52.802Z"
   },
   {
    "duration": 13,
    "start_time": "2023-09-21T20:02:52.825Z"
   },
   {
    "duration": 32,
    "start_time": "2023-09-21T20:02:52.840Z"
   },
   {
    "duration": 1919,
    "start_time": "2023-09-21T20:02:52.873Z"
   },
   {
    "duration": 14889,
    "start_time": "2023-09-21T20:02:54.793Z"
   },
   {
    "duration": 14769,
    "start_time": "2023-09-21T20:03:09.684Z"
   },
   {
    "duration": 763,
    "start_time": "2023-09-21T20:03:24.455Z"
   },
   {
    "duration": 28674,
    "start_time": "2023-09-21T20:03:25.220Z"
   },
   {
    "duration": 5399,
    "start_time": "2023-09-21T20:03:53.982Z"
   },
   {
    "duration": 416,
    "start_time": "2023-09-21T20:03:59.383Z"
   },
   {
    "duration": 26,
    "start_time": "2023-09-21T20:03:59.800Z"
   },
   {
    "duration": 139,
    "start_time": "2023-09-21T20:03:59.827Z"
   },
   {
    "duration": 1532,
    "start_time": "2023-09-21T20:05:47.789Z"
   },
   {
    "duration": 3,
    "start_time": "2023-09-21T20:05:49.323Z"
   },
   {
    "duration": 57,
    "start_time": "2023-09-21T20:05:49.327Z"
   },
   {
    "duration": 25,
    "start_time": "2023-09-21T20:05:49.386Z"
   },
   {
    "duration": 1486,
    "start_time": "2023-09-21T20:05:49.412Z"
   },
   {
    "duration": 1371,
    "start_time": "2023-09-21T20:05:50.899Z"
   },
   {
    "duration": 20,
    "start_time": "2023-09-21T20:05:52.271Z"
   },
   {
    "duration": 6,
    "start_time": "2023-09-21T20:05:52.293Z"
   },
   {
    "duration": 47,
    "start_time": "2023-09-21T20:05:52.301Z"
   },
   {
    "duration": 9,
    "start_time": "2023-09-21T20:05:52.352Z"
   },
   {
    "duration": 17,
    "start_time": "2023-09-21T20:05:52.363Z"
   },
   {
    "duration": 39,
    "start_time": "2023-09-21T20:05:52.382Z"
   },
   {
    "duration": 31,
    "start_time": "2023-09-21T20:05:52.423Z"
   },
   {
    "duration": 1387,
    "start_time": "2023-09-21T20:05:52.455Z"
   },
   {
    "duration": 8439,
    "start_time": "2023-09-21T20:05:53.844Z"
   },
   {
    "duration": 9571,
    "start_time": "2023-09-21T20:06:02.286Z"
   },
   {
    "duration": 13,
    "start_time": "2023-09-21T20:06:11.859Z"
   },
   {
    "duration": 9,
    "start_time": "2023-09-21T20:06:11.881Z"
   },
   {
    "duration": 30,
    "start_time": "2023-09-21T20:06:11.892Z"
   },
   {
    "duration": 9,
    "start_time": "2023-09-21T20:06:11.924Z"
   },
   {
    "duration": 19,
    "start_time": "2023-09-21T20:06:11.935Z"
   },
   {
    "duration": 1738,
    "start_time": "2023-09-21T20:06:11.956Z"
   },
   {
    "duration": 11485,
    "start_time": "2023-09-21T20:06:13.696Z"
   },
   {
    "duration": 12775,
    "start_time": "2023-09-21T20:06:25.184Z"
   },
   {
    "duration": 626,
    "start_time": "2023-09-21T20:06:37.961Z"
   },
   {
    "duration": 6699,
    "start_time": "2023-09-21T20:06:38.588Z"
   },
   {
    "duration": 5014,
    "start_time": "2023-09-21T20:06:45.295Z"
   },
   {
    "duration": 369,
    "start_time": "2023-09-21T20:06:50.312Z"
   },
   {
    "duration": 26,
    "start_time": "2023-09-21T20:06:50.682Z"
   },
   {
    "duration": 125,
    "start_time": "2023-09-21T20:06:50.709Z"
   },
   {
    "duration": 255,
    "start_time": "2023-09-21T20:07:21.133Z"
   },
   {
    "duration": 384,
    "start_time": "2023-09-21T20:08:15.767Z"
   },
   {
    "duration": 381,
    "start_time": "2023-09-21T20:08:20.604Z"
   },
   {
    "duration": 409,
    "start_time": "2023-09-21T20:08:24.854Z"
   },
   {
    "duration": 379,
    "start_time": "2023-09-21T20:08:27.970Z"
   },
   {
    "duration": 358,
    "start_time": "2023-09-21T20:08:32.668Z"
   },
   {
    "duration": 280,
    "start_time": "2023-09-21T20:08:56.477Z"
   },
   {
    "duration": 22,
    "start_time": "2023-09-21T20:08:58.721Z"
   },
   {
    "duration": 1011,
    "start_time": "2023-09-21T20:09:01.850Z"
   },
   {
    "duration": 274,
    "start_time": "2023-09-21T20:09:06.717Z"
   },
   {
    "duration": 199,
    "start_time": "2023-09-21T20:09:16.301Z"
   },
   {
    "duration": 391,
    "start_time": "2023-09-21T20:09:29.682Z"
   },
   {
    "duration": 12641,
    "start_time": "2023-09-21T20:10:31.144Z"
   },
   {
    "duration": 249,
    "start_time": "2023-09-21T20:11:01.409Z"
   },
   {
    "duration": 1557,
    "start_time": "2023-09-21T20:13:05.496Z"
   },
   {
    "duration": 2,
    "start_time": "2023-09-21T20:13:07.056Z"
   },
   {
    "duration": 49,
    "start_time": "2023-09-21T20:13:07.060Z"
   },
   {
    "duration": 30,
    "start_time": "2023-09-21T20:13:07.110Z"
   },
   {
    "duration": 1551,
    "start_time": "2023-09-21T20:13:07.142Z"
   },
   {
    "duration": 1400,
    "start_time": "2023-09-21T20:13:08.695Z"
   },
   {
    "duration": 15,
    "start_time": "2023-09-21T20:13:10.098Z"
   },
   {
    "duration": 5,
    "start_time": "2023-09-21T20:13:10.115Z"
   },
   {
    "duration": 32,
    "start_time": "2023-09-21T20:13:10.121Z"
   },
   {
    "duration": 28,
    "start_time": "2023-09-21T20:13:10.155Z"
   },
   {
    "duration": 18,
    "start_time": "2023-09-21T20:13:10.185Z"
   },
   {
    "duration": 18,
    "start_time": "2023-09-21T20:13:10.205Z"
   },
   {
    "duration": 30,
    "start_time": "2023-09-21T20:13:10.225Z"
   },
   {
    "duration": 1392,
    "start_time": "2023-09-21T20:13:10.259Z"
   },
   {
    "duration": 10236,
    "start_time": "2023-09-21T20:13:11.653Z"
   },
   {
    "duration": 9565,
    "start_time": "2023-09-21T20:13:21.891Z"
   },
   {
    "duration": 23,
    "start_time": "2023-09-21T20:13:31.458Z"
   },
   {
    "duration": 110,
    "start_time": "2023-09-21T20:13:31.483Z"
   },
   {
    "duration": 59,
    "start_time": "2023-09-21T20:13:31.595Z"
   },
   {
    "duration": 47,
    "start_time": "2023-09-21T20:13:31.656Z"
   },
   {
    "duration": 42,
    "start_time": "2023-09-21T20:13:31.705Z"
   },
   {
    "duration": 1718,
    "start_time": "2023-09-21T20:13:31.749Z"
   },
   {
    "duration": 10221,
    "start_time": "2023-09-21T20:13:33.469Z"
   },
   {
    "duration": 12342,
    "start_time": "2023-09-21T20:13:43.782Z"
   },
   {
    "duration": 657,
    "start_time": "2023-09-21T20:13:56.125Z"
   },
   {
    "duration": 6899,
    "start_time": "2023-09-21T20:13:56.783Z"
   },
   {
    "duration": 4962,
    "start_time": "2023-09-21T20:14:03.684Z"
   },
   {
    "duration": 372,
    "start_time": "2023-09-21T20:14:08.647Z"
   },
   {
    "duration": 27,
    "start_time": "2023-09-21T20:14:09.021Z"
   },
   {
    "duration": 143,
    "start_time": "2023-09-21T20:14:09.049Z"
   },
   {
    "duration": 5,
    "start_time": "2023-09-21T20:21:52.381Z"
   },
   {
    "duration": 1630,
    "start_time": "2023-09-21T20:23:13.561Z"
   },
   {
    "duration": 3,
    "start_time": "2023-09-21T20:23:15.193Z"
   },
   {
    "duration": 68,
    "start_time": "2023-09-21T20:23:15.198Z"
   },
   {
    "duration": 26,
    "start_time": "2023-09-21T20:23:15.268Z"
   },
   {
    "duration": 1552,
    "start_time": "2023-09-21T20:23:15.296Z"
   },
   {
    "duration": 1436,
    "start_time": "2023-09-21T20:23:16.850Z"
   },
   {
    "duration": 134,
    "start_time": "2023-09-21T20:23:18.287Z"
   },
   {
    "duration": 0,
    "start_time": "2023-09-21T20:23:18.423Z"
   },
   {
    "duration": 0,
    "start_time": "2023-09-21T20:23:18.425Z"
   },
   {
    "duration": 0,
    "start_time": "2023-09-21T20:23:18.426Z"
   },
   {
    "duration": 0,
    "start_time": "2023-09-21T20:23:18.428Z"
   },
   {
    "duration": 0,
    "start_time": "2023-09-21T20:23:18.429Z"
   },
   {
    "duration": 0,
    "start_time": "2023-09-21T20:23:18.430Z"
   },
   {
    "duration": 0,
    "start_time": "2023-09-21T20:23:18.431Z"
   },
   {
    "duration": 0,
    "start_time": "2023-09-21T20:23:18.433Z"
   },
   {
    "duration": 0,
    "start_time": "2023-09-21T20:23:18.434Z"
   },
   {
    "duration": 0,
    "start_time": "2023-09-21T20:23:18.435Z"
   },
   {
    "duration": 0,
    "start_time": "2023-09-21T20:23:18.436Z"
   },
   {
    "duration": 0,
    "start_time": "2023-09-21T20:23:18.437Z"
   },
   {
    "duration": 0,
    "start_time": "2023-09-21T20:23:18.439Z"
   },
   {
    "duration": 0,
    "start_time": "2023-09-21T20:23:18.440Z"
   },
   {
    "duration": 0,
    "start_time": "2023-09-21T20:23:18.441Z"
   },
   {
    "duration": 0,
    "start_time": "2023-09-21T20:23:18.442Z"
   },
   {
    "duration": 0,
    "start_time": "2023-09-21T20:23:18.481Z"
   },
   {
    "duration": 0,
    "start_time": "2023-09-21T20:23:18.482Z"
   },
   {
    "duration": 0,
    "start_time": "2023-09-21T20:23:18.483Z"
   },
   {
    "duration": 0,
    "start_time": "2023-09-21T20:23:18.484Z"
   },
   {
    "duration": 0,
    "start_time": "2023-09-21T20:23:18.486Z"
   },
   {
    "duration": 0,
    "start_time": "2023-09-21T20:23:18.487Z"
   },
   {
    "duration": 0,
    "start_time": "2023-09-21T20:23:18.488Z"
   },
   {
    "duration": 1610,
    "start_time": "2023-09-21T20:23:44.592Z"
   },
   {
    "duration": 3,
    "start_time": "2023-09-21T20:23:46.204Z"
   },
   {
    "duration": 64,
    "start_time": "2023-09-21T20:23:46.209Z"
   },
   {
    "duration": 31,
    "start_time": "2023-09-21T20:23:46.276Z"
   },
   {
    "duration": 1586,
    "start_time": "2023-09-21T20:23:46.309Z"
   },
   {
    "duration": 1393,
    "start_time": "2023-09-21T20:23:47.896Z"
   },
   {
    "duration": 35,
    "start_time": "2023-09-21T20:23:49.291Z"
   },
   {
    "duration": 12,
    "start_time": "2023-09-21T20:23:49.328Z"
   },
   {
    "duration": 33,
    "start_time": "2023-09-21T20:23:49.341Z"
   },
   {
    "duration": 12,
    "start_time": "2023-09-21T20:23:49.378Z"
   },
   {
    "duration": 12,
    "start_time": "2023-09-21T20:23:49.392Z"
   },
   {
    "duration": 36,
    "start_time": "2023-09-21T20:23:49.406Z"
   },
   {
    "duration": 34,
    "start_time": "2023-09-21T20:23:49.445Z"
   },
   {
    "duration": 1400,
    "start_time": "2023-09-21T20:23:49.481Z"
   },
   {
    "duration": 8804,
    "start_time": "2023-09-21T20:23:50.882Z"
   },
   {
    "duration": 9435,
    "start_time": "2023-09-21T20:23:59.690Z"
   },
   {
    "duration": 13,
    "start_time": "2023-09-21T20:24:09.126Z"
   },
   {
    "duration": 5,
    "start_time": "2023-09-21T20:24:09.141Z"
   },
   {
    "duration": 19,
    "start_time": "2023-09-21T20:24:09.148Z"
   },
   {
    "duration": 14,
    "start_time": "2023-09-21T20:24:09.169Z"
   },
   {
    "duration": 19,
    "start_time": "2023-09-21T20:24:09.185Z"
   },
   {
    "duration": 1649,
    "start_time": "2023-09-21T20:24:09.206Z"
   },
   {
    "duration": 11325,
    "start_time": "2023-09-21T20:24:10.857Z"
   },
   {
    "duration": 12594,
    "start_time": "2023-09-21T20:24:22.185Z"
   },
   {
    "duration": 647,
    "start_time": "2023-09-21T20:24:34.781Z"
   },
   {
    "duration": 6053,
    "start_time": "2023-09-21T20:24:35.430Z"
   },
   {
    "duration": 4968,
    "start_time": "2023-09-21T20:24:41.485Z"
   },
   {
    "duration": 364,
    "start_time": "2023-09-21T20:24:46.457Z"
   },
   {
    "duration": 27,
    "start_time": "2023-09-21T20:24:46.823Z"
   },
   {
    "duration": 130,
    "start_time": "2023-09-21T20:24:46.851Z"
   },
   {
    "duration": 1555,
    "start_time": "2023-09-21T20:27:20.861Z"
   },
   {
    "duration": 3,
    "start_time": "2023-09-21T20:27:22.418Z"
   },
   {
    "duration": 83,
    "start_time": "2023-09-21T20:27:22.422Z"
   },
   {
    "duration": 28,
    "start_time": "2023-09-21T20:27:22.507Z"
   },
   {
    "duration": 1539,
    "start_time": "2023-09-21T20:27:22.537Z"
   },
   {
    "duration": 1392,
    "start_time": "2023-09-21T20:27:24.078Z"
   },
   {
    "duration": 33,
    "start_time": "2023-09-21T20:27:25.472Z"
   },
   {
    "duration": 5,
    "start_time": "2023-09-21T20:27:25.506Z"
   },
   {
    "duration": 63,
    "start_time": "2023-09-21T20:27:25.513Z"
   },
   {
    "duration": 53,
    "start_time": "2023-09-21T20:27:25.580Z"
   },
   {
    "duration": 145,
    "start_time": "2023-09-21T20:27:25.634Z"
   },
   {
    "duration": 35,
    "start_time": "2023-09-21T20:27:25.781Z"
   },
   {
    "duration": 29,
    "start_time": "2023-09-21T20:27:25.817Z"
   },
   {
    "duration": 24,
    "start_time": "2023-09-21T20:27:25.848Z"
   },
   {
    "duration": 1700,
    "start_time": "2023-09-21T20:27:25.873Z"
   },
   {
    "duration": 22111,
    "start_time": "2023-09-21T20:27:27.575Z"
   },
   {
    "duration": 9636,
    "start_time": "2023-09-21T20:27:49.689Z"
   },
   {
    "duration": 13,
    "start_time": "2023-09-21T20:27:59.327Z"
   },
   {
    "duration": 10,
    "start_time": "2023-09-21T20:27:59.341Z"
   },
   {
    "duration": 26,
    "start_time": "2023-09-21T20:27:59.353Z"
   },
   {
    "duration": 10,
    "start_time": "2023-09-21T20:27:59.380Z"
   },
   {
    "duration": 25,
    "start_time": "2023-09-21T20:27:59.392Z"
   },
   {
    "duration": 2096,
    "start_time": "2023-09-21T20:27:59.419Z"
   },
   {
    "duration": 24670,
    "start_time": "2023-09-21T20:28:01.517Z"
   },
   {
    "duration": 13086,
    "start_time": "2023-09-21T20:28:26.189Z"
   },
   {
    "duration": 755,
    "start_time": "2023-09-21T20:28:39.276Z"
   },
   {
    "duration": 12053,
    "start_time": "2023-09-21T20:28:40.033Z"
   },
   {
    "duration": 5120,
    "start_time": "2023-09-21T20:28:52.090Z"
   },
   {
    "duration": 394,
    "start_time": "2023-09-21T20:28:57.212Z"
   },
   {
    "duration": 28,
    "start_time": "2023-09-21T20:28:57.608Z"
   },
   {
    "duration": 141,
    "start_time": "2023-09-21T20:28:57.638Z"
   },
   {
    "duration": 1555,
    "start_time": "2023-09-21T20:30:17.730Z"
   },
   {
    "duration": 4,
    "start_time": "2023-09-21T20:30:19.287Z"
   },
   {
    "duration": 55,
    "start_time": "2023-09-21T20:30:19.293Z"
   },
   {
    "duration": 27,
    "start_time": "2023-09-21T20:30:19.350Z"
   },
   {
    "duration": 1570,
    "start_time": "2023-09-21T20:30:19.380Z"
   },
   {
    "duration": 1448,
    "start_time": "2023-09-21T20:30:20.952Z"
   },
   {
    "duration": 30,
    "start_time": "2023-09-21T20:30:22.401Z"
   },
   {
    "duration": 5,
    "start_time": "2023-09-21T20:30:22.433Z"
   },
   {
    "duration": 41,
    "start_time": "2023-09-21T20:30:22.440Z"
   },
   {
    "duration": 34,
    "start_time": "2023-09-21T20:30:22.484Z"
   },
   {
    "duration": 8,
    "start_time": "2023-09-21T20:30:22.520Z"
   },
   {
    "duration": 15,
    "start_time": "2023-09-21T20:30:22.529Z"
   },
   {
    "duration": 35,
    "start_time": "2023-09-21T20:30:22.546Z"
   },
   {
    "duration": 5,
    "start_time": "2023-09-21T20:30:22.586Z"
   },
   {
    "duration": 1496,
    "start_time": "2023-09-21T20:30:22.593Z"
   },
   {
    "duration": 17995,
    "start_time": "2023-09-21T20:30:24.091Z"
   },
   {
    "duration": 8705,
    "start_time": "2023-09-21T20:30:42.089Z"
   },
   {
    "duration": 12,
    "start_time": "2023-09-21T20:30:50.795Z"
   },
   {
    "duration": 4,
    "start_time": "2023-09-21T20:30:50.808Z"
   },
   {
    "duration": 17,
    "start_time": "2023-09-21T20:30:50.813Z"
   },
   {
    "duration": 5,
    "start_time": "2023-09-21T20:30:50.831Z"
   },
   {
    "duration": 21,
    "start_time": "2023-09-21T20:30:50.837Z"
   },
   {
    "duration": 1871,
    "start_time": "2023-09-21T20:30:50.860Z"
   },
   {
    "duration": 22560,
    "start_time": "2023-09-21T20:30:52.732Z"
   },
   {
    "duration": 12364,
    "start_time": "2023-09-21T20:31:15.380Z"
   },
   {
    "duration": 706,
    "start_time": "2023-09-21T20:31:27.746Z"
   },
   {
    "duration": 22535,
    "start_time": "2023-09-21T20:31:28.453Z"
   },
   {
    "duration": 5108,
    "start_time": "2023-09-21T20:31:50.990Z"
   },
   {
    "duration": 373,
    "start_time": "2023-09-21T20:31:56.100Z"
   },
   {
    "duration": 33,
    "start_time": "2023-09-21T20:31:56.475Z"
   },
   {
    "duration": 135,
    "start_time": "2023-09-21T20:31:56.509Z"
   },
   {
    "duration": 218,
    "start_time": "2023-09-21T20:32:41.604Z"
   },
   {
    "duration": 361,
    "start_time": "2023-09-21T20:32:47.838Z"
   },
   {
    "duration": 118,
    "start_time": "2023-09-21T20:33:47.002Z"
   },
   {
    "duration": 342,
    "start_time": "2023-09-21T20:33:52.304Z"
   },
   {
    "duration": 17,
    "start_time": "2023-09-21T20:35:11.957Z"
   },
   {
    "duration": 9,
    "start_time": "2023-09-21T20:35:13.979Z"
   },
   {
    "duration": 5,
    "start_time": "2023-09-21T20:35:15.737Z"
   },
   {
    "duration": 16,
    "start_time": "2023-09-21T20:35:17.427Z"
   },
   {
    "duration": 5,
    "start_time": "2023-09-21T20:35:22.386Z"
   },
   {
    "duration": 7,
    "start_time": "2023-09-21T20:35:22.393Z"
   },
   {
    "duration": 42,
    "start_time": "2023-09-21T20:35:22.401Z"
   },
   {
    "duration": 23,
    "start_time": "2023-09-21T20:35:22.445Z"
   },
   {
    "duration": 1535,
    "start_time": "2023-09-21T20:35:22.481Z"
   },
   {
    "duration": 1533,
    "start_time": "2023-09-21T20:35:24.017Z"
   },
   {
    "duration": 34,
    "start_time": "2023-09-21T20:35:25.551Z"
   },
   {
    "duration": 5,
    "start_time": "2023-09-21T20:35:25.586Z"
   },
   {
    "duration": 35,
    "start_time": "2023-09-21T20:35:25.592Z"
   },
   {
    "duration": 16,
    "start_time": "2023-09-21T20:35:25.631Z"
   },
   {
    "duration": 7,
    "start_time": "2023-09-21T20:35:25.648Z"
   },
   {
    "duration": 25,
    "start_time": "2023-09-21T20:35:25.657Z"
   },
   {
    "duration": 17,
    "start_time": "2023-09-21T20:35:25.684Z"
   },
   {
    "duration": 18,
    "start_time": "2023-09-21T20:35:25.702Z"
   },
   {
    "duration": 21,
    "start_time": "2023-09-21T20:35:25.722Z"
   },
   {
    "duration": 0,
    "start_time": "2023-09-21T20:35:25.745Z"
   },
   {
    "duration": 0,
    "start_time": "2023-09-21T20:35:25.747Z"
   },
   {
    "duration": 0,
    "start_time": "2023-09-21T20:35:25.748Z"
   },
   {
    "duration": 0,
    "start_time": "2023-09-21T20:35:25.749Z"
   },
   {
    "duration": 0,
    "start_time": "2023-09-21T20:35:25.750Z"
   },
   {
    "duration": 0,
    "start_time": "2023-09-21T20:35:25.751Z"
   },
   {
    "duration": 0,
    "start_time": "2023-09-21T20:35:25.752Z"
   },
   {
    "duration": 0,
    "start_time": "2023-09-21T20:35:25.754Z"
   },
   {
    "duration": 0,
    "start_time": "2023-09-21T20:35:25.754Z"
   },
   {
    "duration": 0,
    "start_time": "2023-09-21T20:35:25.755Z"
   },
   {
    "duration": 0,
    "start_time": "2023-09-21T20:35:25.781Z"
   },
   {
    "duration": 0,
    "start_time": "2023-09-21T20:35:25.782Z"
   },
   {
    "duration": 0,
    "start_time": "2023-09-21T20:35:25.783Z"
   },
   {
    "duration": 0,
    "start_time": "2023-09-21T20:35:25.785Z"
   },
   {
    "duration": 0,
    "start_time": "2023-09-21T20:35:25.785Z"
   },
   {
    "duration": 0,
    "start_time": "2023-09-21T20:35:25.787Z"
   },
   {
    "duration": 1549,
    "start_time": "2023-09-21T20:36:39.167Z"
   },
   {
    "duration": 3,
    "start_time": "2023-09-21T20:36:40.718Z"
   },
   {
    "duration": 45,
    "start_time": "2023-09-21T20:36:40.723Z"
   },
   {
    "duration": 35,
    "start_time": "2023-09-21T20:36:40.770Z"
   },
   {
    "duration": 1514,
    "start_time": "2023-09-21T20:36:40.807Z"
   },
   {
    "duration": 1384,
    "start_time": "2023-09-21T20:36:42.322Z"
   },
   {
    "duration": 27,
    "start_time": "2023-09-21T20:36:43.708Z"
   },
   {
    "duration": 3,
    "start_time": "2023-09-21T20:36:43.737Z"
   },
   {
    "duration": 40,
    "start_time": "2023-09-21T20:36:43.742Z"
   },
   {
    "duration": 19,
    "start_time": "2023-09-21T20:36:43.788Z"
   },
   {
    "duration": 16,
    "start_time": "2023-09-21T20:36:43.809Z"
   },
   {
    "duration": 6,
    "start_time": "2023-09-21T20:36:43.826Z"
   },
   {
    "duration": 18,
    "start_time": "2023-09-21T20:36:43.834Z"
   },
   {
    "duration": 4,
    "start_time": "2023-09-21T20:36:43.855Z"
   },
   {
    "duration": 1751,
    "start_time": "2023-09-21T20:36:43.860Z"
   },
   {
    "duration": 34481,
    "start_time": "2023-09-21T20:36:45.613Z"
   },
   {
    "duration": 10142,
    "start_time": "2023-09-21T20:37:20.096Z"
   },
   {
    "duration": 14,
    "start_time": "2023-09-21T20:37:30.240Z"
   },
   {
    "duration": 65,
    "start_time": "2023-09-21T20:37:30.256Z"
   },
   {
    "duration": 83,
    "start_time": "2023-09-21T20:37:30.323Z"
   },
   {
    "duration": 26,
    "start_time": "2023-09-21T20:37:30.407Z"
   },
   {
    "duration": 57,
    "start_time": "2023-09-21T20:37:30.435Z"
   },
   {
    "duration": 2192,
    "start_time": "2023-09-21T20:37:30.494Z"
   },
   {
    "duration": 33205,
    "start_time": "2023-09-21T20:37:32.689Z"
   },
   {
    "duration": 13657,
    "start_time": "2023-09-21T20:38:05.900Z"
   },
   {
    "duration": 863,
    "start_time": "2023-09-21T20:38:19.559Z"
   },
   {
    "duration": 22965,
    "start_time": "2023-09-21T20:38:20.424Z"
   },
   {
    "duration": 5319,
    "start_time": "2023-09-21T20:38:43.402Z"
   },
   {
    "duration": 391,
    "start_time": "2023-09-21T20:38:48.723Z"
   },
   {
    "duration": 29,
    "start_time": "2023-09-21T20:38:49.116Z"
   },
   {
    "duration": 147,
    "start_time": "2023-09-21T20:38:49.146Z"
   },
   {
    "duration": 475,
    "start_time": "2023-09-21T20:39:04.500Z"
   },
   {
    "duration": 502,
    "start_time": "2023-09-21T20:39:08.180Z"
   },
   {
    "duration": 407,
    "start_time": "2023-09-21T20:40:07.793Z"
   },
   {
    "duration": 2956,
    "start_time": "2023-09-22T14:40:01.453Z"
   },
   {
    "duration": 3,
    "start_time": "2023-09-22T14:40:04.410Z"
   },
   {
    "duration": 106,
    "start_time": "2023-09-22T14:40:04.415Z"
   },
   {
    "duration": 24,
    "start_time": "2023-09-22T14:40:04.524Z"
   },
   {
    "duration": 1497,
    "start_time": "2023-09-22T14:40:04.550Z"
   },
   {
    "duration": 1284,
    "start_time": "2023-09-22T14:40:06.049Z"
   },
   {
    "duration": 35,
    "start_time": "2023-09-22T14:40:07.343Z"
   },
   {
    "duration": 4,
    "start_time": "2023-09-22T14:40:07.379Z"
   },
   {
    "duration": 26,
    "start_time": "2023-09-22T14:40:07.385Z"
   },
   {
    "duration": 21,
    "start_time": "2023-09-22T14:40:07.414Z"
   },
   {
    "duration": 7,
    "start_time": "2023-09-22T14:40:07.436Z"
   },
   {
    "duration": 11,
    "start_time": "2023-09-22T14:40:07.445Z"
   },
   {
    "duration": 22,
    "start_time": "2023-09-22T14:40:07.457Z"
   },
   {
    "duration": 12,
    "start_time": "2023-09-22T14:40:07.480Z"
   },
   {
    "duration": 1568,
    "start_time": "2023-09-22T14:40:07.493Z"
   },
   {
    "duration": 22082,
    "start_time": "2023-09-22T14:40:09.063Z"
   },
   {
    "duration": 8950,
    "start_time": "2023-09-22T14:40:31.147Z"
   },
   {
    "duration": 13,
    "start_time": "2023-09-22T14:40:40.098Z"
   },
   {
    "duration": 85,
    "start_time": "2023-09-22T14:40:40.112Z"
   },
   {
    "duration": 135,
    "start_time": "2023-09-22T14:40:40.199Z"
   },
   {
    "duration": 4,
    "start_time": "2023-09-22T14:40:40.335Z"
   },
   {
    "duration": 20,
    "start_time": "2023-09-22T14:40:40.340Z"
   },
   {
    "duration": 1896,
    "start_time": "2023-09-22T14:40:40.362Z"
   },
   {
    "duration": 22789,
    "start_time": "2023-09-22T14:40:42.260Z"
   },
   {
    "duration": 12446,
    "start_time": "2023-09-22T14:41:05.052Z"
   },
   {
    "duration": 749,
    "start_time": "2023-09-22T14:41:17.500Z"
   },
   {
    "duration": 11003,
    "start_time": "2023-09-22T14:41:18.251Z"
   },
   {
    "duration": 4965,
    "start_time": "2023-09-22T14:41:29.347Z"
   },
   {
    "duration": 503,
    "start_time": "2023-09-22T14:41:34.314Z"
   },
   {
    "duration": 45,
    "start_time": "2023-09-22T14:41:34.819Z"
   },
   {
    "duration": 124,
    "start_time": "2023-09-22T14:41:34.866Z"
   },
   {
    "duration": 19,
    "start_time": "2023-09-22T14:41:34.992Z"
   },
   {
    "duration": 11,
    "start_time": "2023-09-22T14:41:57.051Z"
   },
   {
    "duration": 5,
    "start_time": "2023-09-22T14:42:23.363Z"
   },
   {
    "duration": 5,
    "start_time": "2023-09-22T14:42:34.789Z"
   },
   {
    "duration": 5,
    "start_time": "2023-09-22T14:42:41.351Z"
   },
   {
    "duration": 5,
    "start_time": "2023-09-22T14:43:01.009Z"
   },
   {
    "duration": 5,
    "start_time": "2023-09-22T14:43:09.118Z"
   },
   {
    "duration": 38,
    "start_time": "2023-09-22T14:44:20.886Z"
   },
   {
    "duration": 22,
    "start_time": "2023-09-22T14:44:22.593Z"
   },
   {
    "duration": 8,
    "start_time": "2023-09-22T14:44:47.069Z"
   },
   {
    "duration": 20,
    "start_time": "2023-09-22T14:44:57.172Z"
   },
   {
    "duration": 6,
    "start_time": "2023-09-22T14:45:06.623Z"
   },
   {
    "duration": 6,
    "start_time": "2023-09-22T14:45:32.054Z"
   },
   {
    "duration": 6,
    "start_time": "2023-09-22T14:53:08.008Z"
   },
   {
    "duration": 108,
    "start_time": "2023-09-22T14:54:08.031Z"
   },
   {
    "duration": 5,
    "start_time": "2023-09-22T14:54:14.698Z"
   },
   {
    "duration": 5,
    "start_time": "2023-09-22T14:54:47.006Z"
   },
   {
    "duration": 5,
    "start_time": "2023-09-22T14:55:16.813Z"
   },
   {
    "duration": 953,
    "start_time": "2023-09-22T14:58:01.748Z"
   },
   {
    "duration": 2794,
    "start_time": "2023-09-22T14:58:08.542Z"
   },
   {
    "duration": 452,
    "start_time": "2023-09-22T14:58:19.058Z"
   },
   {
    "duration": 277342,
    "start_time": "2023-09-22T14:59:23.643Z"
   },
   {
    "duration": 2575,
    "start_time": "2023-09-22T18:33:03.946Z"
   },
   {
    "duration": 4,
    "start_time": "2023-09-22T18:33:06.525Z"
   },
   {
    "duration": 209,
    "start_time": "2023-09-22T18:33:06.532Z"
   },
   {
    "duration": 47,
    "start_time": "2023-09-22T18:33:06.748Z"
   },
   {
    "duration": 2297,
    "start_time": "2023-09-22T18:33:06.798Z"
   },
   {
    "duration": 2109,
    "start_time": "2023-09-22T18:33:09.100Z"
   },
   {
    "duration": 12,
    "start_time": "2023-09-22T18:33:11.212Z"
   },
   {
    "duration": 18,
    "start_time": "2023-09-22T18:33:11.227Z"
   },
   {
    "duration": 43,
    "start_time": "2023-09-22T18:33:11.259Z"
   },
   {
    "duration": 24,
    "start_time": "2023-09-22T18:33:11.313Z"
   },
   {
    "duration": 15,
    "start_time": "2023-09-22T18:33:11.346Z"
   },
   {
    "duration": 182,
    "start_time": "2023-09-22T18:33:11.368Z"
   },
   {
    "duration": 6,
    "start_time": "2023-09-22T18:33:11.571Z"
   },
   {
    "duration": 33,
    "start_time": "2023-09-22T18:33:11.580Z"
   },
   {
    "duration": 1929,
    "start_time": "2023-09-22T18:33:11.618Z"
   },
   {
    "duration": 17584,
    "start_time": "2023-09-22T18:33:13.557Z"
   },
   {
    "duration": 147,
    "start_time": "2023-09-22T18:33:31.157Z"
   },
   {
    "duration": 0,
    "start_time": "2023-09-22T18:33:31.306Z"
   },
   {
    "duration": 0,
    "start_time": "2023-09-22T18:33:31.307Z"
   },
   {
    "duration": 0,
    "start_time": "2023-09-22T18:33:31.319Z"
   },
   {
    "duration": 0,
    "start_time": "2023-09-22T18:33:31.319Z"
   },
   {
    "duration": 0,
    "start_time": "2023-09-22T18:33:31.320Z"
   },
   {
    "duration": 0,
    "start_time": "2023-09-22T18:33:31.326Z"
   },
   {
    "duration": 0,
    "start_time": "2023-09-22T18:33:31.327Z"
   },
   {
    "duration": 0,
    "start_time": "2023-09-22T18:33:31.328Z"
   },
   {
    "duration": 0,
    "start_time": "2023-09-22T18:33:31.329Z"
   },
   {
    "duration": 0,
    "start_time": "2023-09-22T18:33:31.333Z"
   },
   {
    "duration": 0,
    "start_time": "2023-09-22T18:33:31.339Z"
   },
   {
    "duration": 0,
    "start_time": "2023-09-22T18:33:31.343Z"
   },
   {
    "duration": 0,
    "start_time": "2023-09-22T18:33:31.345Z"
   },
   {
    "duration": 0,
    "start_time": "2023-09-22T18:33:31.346Z"
   },
   {
    "duration": 0,
    "start_time": "2023-09-22T18:33:31.348Z"
   },
   {
    "duration": 153341,
    "start_time": "2023-09-22T18:34:22.444Z"
   },
   {
    "duration": 2225,
    "start_time": "2023-09-22T18:39:14.573Z"
   },
   {
    "duration": 4,
    "start_time": "2023-09-22T18:39:16.801Z"
   },
   {
    "duration": 89,
    "start_time": "2023-09-22T18:39:16.807Z"
   },
   {
    "duration": 47,
    "start_time": "2023-09-22T18:39:16.899Z"
   },
   {
    "duration": 2137,
    "start_time": "2023-09-22T18:39:16.948Z"
   },
   {
    "duration": 1990,
    "start_time": "2023-09-22T18:39:19.091Z"
   },
   {
    "duration": 11,
    "start_time": "2023-09-22T18:39:21.087Z"
   },
   {
    "duration": 12,
    "start_time": "2023-09-22T18:39:21.103Z"
   },
   {
    "duration": 40,
    "start_time": "2023-09-22T18:39:21.129Z"
   },
   {
    "duration": 15,
    "start_time": "2023-09-22T18:39:21.173Z"
   },
   {
    "duration": 11,
    "start_time": "2023-09-22T18:39:21.194Z"
   },
   {
    "duration": 34,
    "start_time": "2023-09-22T18:39:21.207Z"
   },
   {
    "duration": 9,
    "start_time": "2023-09-22T18:39:21.243Z"
   },
   {
    "duration": 66,
    "start_time": "2023-09-22T18:39:21.254Z"
   },
   {
    "duration": 2025,
    "start_time": "2023-09-22T18:39:21.323Z"
   },
   {
    "duration": 16871,
    "start_time": "2023-09-22T18:39:23.354Z"
   },
   {
    "duration": 2362,
    "start_time": "2023-09-22T18:42:27.585Z"
   },
   {
    "duration": 19,
    "start_time": "2023-09-22T18:42:29.966Z"
   },
   {
    "duration": 111,
    "start_time": "2023-09-22T18:42:30.002Z"
   },
   {
    "duration": 67,
    "start_time": "2023-09-22T18:42:30.134Z"
   },
   {
    "duration": 2823,
    "start_time": "2023-09-22T18:42:30.207Z"
   },
   {
    "duration": 2674,
    "start_time": "2023-09-22T18:42:33.037Z"
   },
   {
    "duration": 11,
    "start_time": "2023-09-22T18:42:35.718Z"
   },
   {
    "duration": 71,
    "start_time": "2023-09-22T18:42:35.737Z"
   },
   {
    "duration": 171,
    "start_time": "2023-09-22T18:42:35.818Z"
   },
   {
    "duration": 25,
    "start_time": "2023-09-22T18:42:35.992Z"
   },
   {
    "duration": 51,
    "start_time": "2023-09-22T18:42:36.022Z"
   },
   {
    "duration": 90,
    "start_time": "2023-09-22T18:42:36.076Z"
   },
   {
    "duration": 11,
    "start_time": "2023-09-22T18:42:36.173Z"
   },
   {
    "duration": 70,
    "start_time": "2023-09-22T18:42:36.193Z"
   },
   {
    "duration": 2281,
    "start_time": "2023-09-22T18:42:36.271Z"
   },
   {
    "duration": 11466,
    "start_time": "2023-09-22T18:42:38.571Z"
   },
   {
    "duration": 136602,
    "start_time": "2023-09-22T18:42:50.066Z"
   },
   {
    "duration": 47,
    "start_time": "2023-09-22T18:45:06.677Z"
   },
   {
    "duration": 10,
    "start_time": "2023-09-22T18:45:06.743Z"
   },
   {
    "duration": 12,
    "start_time": "2023-09-22T18:45:06.756Z"
   },
   {
    "duration": 12,
    "start_time": "2023-09-22T18:45:06.774Z"
   },
   {
    "duration": 6,
    "start_time": "2023-09-22T18:45:06.788Z"
   },
   {
    "duration": 25,
    "start_time": "2023-09-22T18:45:06.797Z"
   },
   {
    "duration": 2122,
    "start_time": "2023-09-22T18:45:06.825Z"
   },
   {
    "duration": 20368,
    "start_time": "2023-09-22T18:45:08.956Z"
   },
   {
    "duration": 185134,
    "start_time": "2023-09-22T18:45:29.348Z"
   },
   {
    "duration": 902,
    "start_time": "2023-09-22T18:48:34.484Z"
   },
   {
    "duration": 19251,
    "start_time": "2023-09-22T18:48:35.389Z"
   },
   {
    "duration": 76740,
    "start_time": "2023-09-22T18:48:54.642Z"
   },
   {
    "duration": 615,
    "start_time": "2023-09-22T18:50:11.384Z"
   },
   {
    "duration": 46,
    "start_time": "2023-09-22T18:50:12.011Z"
   },
   {
    "duration": 173,
    "start_time": "2023-09-22T18:50:12.061Z"
   },
   {
    "duration": 815,
    "start_time": "2023-09-22T18:50:46.275Z"
   }
  ],
  "kernelspec": {
   "display_name": "Python 3",
   "language": "python",
   "name": "python3"
  },
  "language_info": {
   "codemirror_mode": {
    "name": "ipython",
    "version": 3
   },
   "file_extension": ".py",
   "mimetype": "text/x-python",
   "name": "python",
   "nbconvert_exporter": "python",
   "pygments_lexer": "ipython3",
   "version": "3.8.8"
  },
  "toc": {
   "base_numbering": 1,
   "nav_menu": {},
   "number_sections": true,
   "sideBar": true,
   "skip_h1_title": true,
   "title_cell": "Содержание",
   "title_sidebar": "Contents",
   "toc_cell": true,
   "toc_position": {
    "height": "calc(100% - 180px)",
    "left": "10px",
    "top": "150px",
    "width": "275px"
   },
   "toc_section_display": true,
   "toc_window_display": false
  }
 },
 "nbformat": 4,
 "nbformat_minor": 2
}
